{
 "cells": [
  {
   "cell_type": "markdown",
   "metadata": {},
   "source": [
    "# Content-based recommender system\n",
    "The system makes recommendations based on the movies metadata\n",
    "---\n",
    "# Used datasets\n",
    "+ [credits.csv](https://www.kaggle.com/rounakbanik/the-movies-dataset/downloads/credits.csv/7): Consists of Cast and Crew Information for all our movies. Available in the form of a stringified JSON Object.\n",
    "+ [keywords.csv](https://www.kaggle.com/rounakbanik/the-movies-dataset/downloads/keywords.csv/7): Contains the movie plot keywords for our MovieLens movies. Available in the form of a stringified JSON Object.\n",
    "+ [movies_metadata.csv](https://www.kaggle.com/rounakbanik/the-movies-dataset/downloads/movies_metadata.csv/7): The main Movies Metadata file. Contains information on 45,000 movies featured in the Full MovieLens dataset. Features include posters, backdrops, budget, revenue, release dates, languages, production countries and companies.\n",
    "+ [links_small.csv](https://www.kaggle.com/rounakbanik/the-movies-dataset/downloads/links_small.csv/7): Contains the TMDB and IMDB IDs of a small subset of 9,000 movies of the Full Dataset."
   ]
  },
  {
   "cell_type": "markdown",
   "metadata": {},
   "source": [
    "# Import libraries"
   ]
  },
  {
   "cell_type": "code",
   "execution_count": 96,
   "metadata": {
    "collapsed": true
   },
   "outputs": [],
   "source": [
    "import numpy as np\n",
    "import pandas as pd\n",
    "from ast import literal_eval # Transform str to python code\n",
    "import sys # sys.maxsize\n",
    "from nltk.stem.snowball import SnowballStemmer # Stem words' endings\n",
    "from sklearn.feature_extraction.text import CountVectorizer\n",
    "from sklearn.metrics.pairwise import cosine_similarity\n",
    "from operator import itemgetter"
   ]
  },
  {
   "cell_type": "markdown",
   "metadata": {},
   "source": [
    "# Load datasets"
   ]
  },
  {
   "cell_type": "code",
   "execution_count": 97,
   "metadata": {
    "collapsed": true
   },
   "outputs": [],
   "source": [
    "credits = pd.read_csv('datasets/credits.csv')\n",
    "keywords = pd.read_csv('datasets/keywords.csv')\n",
    "movies = pd.read_csv('datasets/movies_metadata.csv', low_memory=False)\n",
    "links = pd.read_csv('datasets/links_small.csv')\n",
    "\n",
    "pd.set_option('precision',1000)"
   ]
  },
  {
   "cell_type": "markdown",
   "metadata": {},
   "source": [
    "## Peek at the datasets"
   ]
  },
  {
   "cell_type": "code",
   "execution_count": 98,
   "metadata": {
    "scrolled": true
   },
   "outputs": [
    {
     "data": {
      "text/html": [
       "<div>\n",
       "<style scoped>\n",
       "    .dataframe tbody tr th:only-of-type {\n",
       "        vertical-align: middle;\n",
       "    }\n",
       "\n",
       "    .dataframe tbody tr th {\n",
       "        vertical-align: top;\n",
       "    }\n",
       "\n",
       "    .dataframe thead th {\n",
       "        text-align: right;\n",
       "    }\n",
       "</style>\n",
       "<table border=\"1\" class=\"dataframe\">\n",
       "  <thead>\n",
       "    <tr style=\"text-align: right;\">\n",
       "      <th></th>\n",
       "      <th>adult</th>\n",
       "      <th>belongs_to_collection</th>\n",
       "      <th>budget</th>\n",
       "      <th>genres</th>\n",
       "      <th>homepage</th>\n",
       "      <th>id</th>\n",
       "      <th>imdb_id</th>\n",
       "      <th>original_language</th>\n",
       "      <th>original_title</th>\n",
       "      <th>overview</th>\n",
       "      <th>...</th>\n",
       "      <th>release_date</th>\n",
       "      <th>revenue</th>\n",
       "      <th>runtime</th>\n",
       "      <th>spoken_languages</th>\n",
       "      <th>status</th>\n",
       "      <th>tagline</th>\n",
       "      <th>title</th>\n",
       "      <th>video</th>\n",
       "      <th>vote_average</th>\n",
       "      <th>vote_count</th>\n",
       "    </tr>\n",
       "  </thead>\n",
       "  <tbody>\n",
       "    <tr>\n",
       "      <th>0</th>\n",
       "      <td>False</td>\n",
       "      <td>{'id': 10194, 'name': 'Toy Story Collection', ...</td>\n",
       "      <td>30000000</td>\n",
       "      <td>[{'id': 16, 'name': 'Animation'}, {'id': 35, '...</td>\n",
       "      <td>http://toystory.disney.com/toy-story</td>\n",
       "      <td>862</td>\n",
       "      <td>tt0114709</td>\n",
       "      <td>en</td>\n",
       "      <td>Toy Story</td>\n",
       "      <td>Led by Woody, Andy's toys live happily in his ...</td>\n",
       "      <td>...</td>\n",
       "      <td>1995-10-30</td>\n",
       "      <td>373554033.0</td>\n",
       "      <td>81.0</td>\n",
       "      <td>[{'iso_639_1': 'en', 'name': 'English'}]</td>\n",
       "      <td>Released</td>\n",
       "      <td>NaN</td>\n",
       "      <td>Toy Story</td>\n",
       "      <td>False</td>\n",
       "      <td>7.70000000000000017763568394002504646778106689...</td>\n",
       "      <td>5415.0</td>\n",
       "    </tr>\n",
       "  </tbody>\n",
       "</table>\n",
       "<p>1 rows × 24 columns</p>\n",
       "</div>"
      ],
      "text/plain": [
       "   adult                              belongs_to_collection    budget  \\\n",
       "0  False  {'id': 10194, 'name': 'Toy Story Collection', ...  30000000   \n",
       "\n",
       "                                              genres  \\\n",
       "0  [{'id': 16, 'name': 'Animation'}, {'id': 35, '...   \n",
       "\n",
       "                               homepage   id    imdb_id original_language  \\\n",
       "0  http://toystory.disney.com/toy-story  862  tt0114709                en   \n",
       "\n",
       "  original_title                                           overview  \\\n",
       "0      Toy Story  Led by Woody, Andy's toys live happily in his ...   \n",
       "\n",
       "     ...     release_date      revenue runtime  \\\n",
       "0    ...       1995-10-30  373554033.0    81.0   \n",
       "\n",
       "                           spoken_languages    status  tagline      title  \\\n",
       "0  [{'iso_639_1': 'en', 'name': 'English'}]  Released      NaN  Toy Story   \n",
       "\n",
       "   video                                       vote_average vote_count  \n",
       "0  False  7.70000000000000017763568394002504646778106689...     5415.0  \n",
       "\n",
       "[1 rows x 24 columns]"
      ]
     },
     "execution_count": 98,
     "metadata": {},
     "output_type": "execute_result"
    }
   ],
   "source": [
    "movies.head(1)"
   ]
  },
  {
   "cell_type": "code",
   "execution_count": 99,
   "metadata": {},
   "outputs": [
    {
     "data": {
      "text/html": [
       "<div>\n",
       "<style scoped>\n",
       "    .dataframe tbody tr th:only-of-type {\n",
       "        vertical-align: middle;\n",
       "    }\n",
       "\n",
       "    .dataframe tbody tr th {\n",
       "        vertical-align: top;\n",
       "    }\n",
       "\n",
       "    .dataframe thead th {\n",
       "        text-align: right;\n",
       "    }\n",
       "</style>\n",
       "<table border=\"1\" class=\"dataframe\">\n",
       "  <thead>\n",
       "    <tr style=\"text-align: right;\">\n",
       "      <th></th>\n",
       "      <th>id</th>\n",
       "      <th>keywords</th>\n",
       "    </tr>\n",
       "  </thead>\n",
       "  <tbody>\n",
       "    <tr>\n",
       "      <th>0</th>\n",
       "      <td>862</td>\n",
       "      <td>[{'id': 931, 'name': 'jealousy'}, {'id': 4290,...</td>\n",
       "    </tr>\n",
       "  </tbody>\n",
       "</table>\n",
       "</div>"
      ],
      "text/plain": [
       "    id                                           keywords\n",
       "0  862  [{'id': 931, 'name': 'jealousy'}, {'id': 4290,..."
      ]
     },
     "execution_count": 99,
     "metadata": {},
     "output_type": "execute_result"
    }
   ],
   "source": [
    "keywords.head(1)"
   ]
  },
  {
   "cell_type": "code",
   "execution_count": 100,
   "metadata": {},
   "outputs": [
    {
     "data": {
      "text/html": [
       "<div>\n",
       "<style scoped>\n",
       "    .dataframe tbody tr th:only-of-type {\n",
       "        vertical-align: middle;\n",
       "    }\n",
       "\n",
       "    .dataframe tbody tr th {\n",
       "        vertical-align: top;\n",
       "    }\n",
       "\n",
       "    .dataframe thead th {\n",
       "        text-align: right;\n",
       "    }\n",
       "</style>\n",
       "<table border=\"1\" class=\"dataframe\">\n",
       "  <thead>\n",
       "    <tr style=\"text-align: right;\">\n",
       "      <th></th>\n",
       "      <th>cast</th>\n",
       "      <th>crew</th>\n",
       "      <th>id</th>\n",
       "    </tr>\n",
       "  </thead>\n",
       "  <tbody>\n",
       "    <tr>\n",
       "      <th>0</th>\n",
       "      <td>[{'cast_id': 14, 'character': 'Woody (voice)',...</td>\n",
       "      <td>[{'credit_id': '52fe4284c3a36847f8024f49', 'de...</td>\n",
       "      <td>862</td>\n",
       "    </tr>\n",
       "  </tbody>\n",
       "</table>\n",
       "</div>"
      ],
      "text/plain": [
       "                                                cast  \\\n",
       "0  [{'cast_id': 14, 'character': 'Woody (voice)',...   \n",
       "\n",
       "                                                crew   id  \n",
       "0  [{'credit_id': '52fe4284c3a36847f8024f49', 'de...  862  "
      ]
     },
     "execution_count": 100,
     "metadata": {},
     "output_type": "execute_result"
    }
   ],
   "source": [
    "credits.head(1)"
   ]
  },
  {
   "cell_type": "code",
   "execution_count": 101,
   "metadata": {
    "scrolled": true
   },
   "outputs": [
    {
     "data": {
      "text/html": [
       "<div>\n",
       "<style scoped>\n",
       "    .dataframe tbody tr th:only-of-type {\n",
       "        vertical-align: middle;\n",
       "    }\n",
       "\n",
       "    .dataframe tbody tr th {\n",
       "        vertical-align: top;\n",
       "    }\n",
       "\n",
       "    .dataframe thead th {\n",
       "        text-align: right;\n",
       "    }\n",
       "</style>\n",
       "<table border=\"1\" class=\"dataframe\">\n",
       "  <thead>\n",
       "    <tr style=\"text-align: right;\">\n",
       "      <th></th>\n",
       "      <th>movieId</th>\n",
       "      <th>imdbId</th>\n",
       "      <th>tmdbId</th>\n",
       "    </tr>\n",
       "  </thead>\n",
       "  <tbody>\n",
       "    <tr>\n",
       "      <th>0</th>\n",
       "      <td>1</td>\n",
       "      <td>114709</td>\n",
       "      <td>862.0</td>\n",
       "    </tr>\n",
       "  </tbody>\n",
       "</table>\n",
       "</div>"
      ],
      "text/plain": [
       "   movieId  imdbId  tmdbId\n",
       "0        1  114709   862.0"
      ]
     },
     "execution_count": 101,
     "metadata": {},
     "output_type": "execute_result"
    }
   ],
   "source": [
    "links.head(1)"
   ]
  },
  {
   "cell_type": "code",
   "execution_count": 102,
   "metadata": {},
   "outputs": [
    {
     "data": {
      "text/plain": [
       "(45466, 24)"
      ]
     },
     "execution_count": 102,
     "metadata": {},
     "output_type": "execute_result"
    }
   ],
   "source": [
    "movies.shape"
   ]
  },
  {
   "cell_type": "markdown",
   "metadata": {},
   "source": [
    "# Preprocess attributes 1"
   ]
  },
  {
   "cell_type": "code",
   "execution_count": 103,
   "metadata": {
    "collapsed": true
   },
   "outputs": [],
   "source": [
    "credits['id'] = credits.drop_duplicates(subset ='id')['id'].astype('int')\n",
    "keywords['id'] = keywords.drop_duplicates(subset='id')['id'].astype('int')\n",
    "movies.drop([19730,29503,35587],inplace=True) # bad rows\n",
    "movies['id'] = movies[(movies['id'].str.isnumeric()) & (movies['id'].notnull())]['id'].astype('int')\n",
    "links['tmdbId'] = links.drop_duplicates(subset='tmdbId').dropna(subset=['tmdbId'])['tmdbId'].astype('int')"
   ]
  },
  {
   "cell_type": "markdown",
   "metadata": {},
   "source": [
    "## Merge data from credits and keywords into movies DataFrame"
   ]
  },
  {
   "cell_type": "code",
   "execution_count": 104,
   "metadata": {
    "collapsed": true
   },
   "outputs": [],
   "source": [
    "movies = movies.merge(\n",
    "    right=credits, on='id', how='inner').merge(\n",
    "        right=keywords, on='id', how='inner')"
   ]
  },
  {
   "cell_type": "markdown",
   "metadata": {},
   "source": [
    "## Use subset of movies for better computational time"
   ]
  },
  {
   "cell_type": "code",
   "execution_count": 105,
   "metadata": {
    "collapsed": true
   },
   "outputs": [],
   "source": [
    "movies = movies[movies['id'].isin(links['tmdbId'])]"
   ]
  },
  {
   "cell_type": "code",
   "execution_count": 106,
   "metadata": {},
   "outputs": [
    {
     "name": "stdout",
     "output_type": "stream",
     "text": [
      "Subset shape: (9099, 27)\n"
     ]
    }
   ],
   "source": [
    "print('Subset shape: {}'.format(movies.shape))"
   ]
  },
  {
   "cell_type": "markdown",
   "metadata": {},
   "source": [
    "# Preprocess attributes 2"
   ]
  },
  {
   "cell_type": "code",
   "execution_count": 107,
   "metadata": {
    "collapsed": true
   },
   "outputs": [],
   "source": [
    "movies['crew'] = movies['crew'].apply(literal_eval)\n",
    "movies['cast'] = movies['cast'].apply(literal_eval)\n",
    "movies['keywords'] = movies['keywords'].apply(literal_eval)\n",
    "movies['genres'] = movies['genres'].apply(literal_eval).apply(\n",
    "    lambda x: [i['name'] for i in x] if isinstance(x, list) else np.nan)"
   ]
  },
  {
   "cell_type": "markdown",
   "metadata": {},
   "source": [
    "# Feature engineering"
   ]
  },
  {
   "cell_type": "code",
   "execution_count": 108,
   "metadata": {
    "collapsed": true
   },
   "outputs": [],
   "source": [
    "def get_director(x):\n",
    "    for i in x:\n",
    "        if i['job']=='Director':\n",
    "            return i['name']\n",
    "    return np.nan\n",
    "\n",
    "def get_cast_keywords(x,n=sys.maxsize):\n",
    "    res = []\n",
    "    if isinstance(x,list):\n",
    "        for elem in x:\n",
    "            n = n-1\n",
    "            res.append(elem['name'])\n",
    "            if n == 0:\n",
    "                break\n",
    "    return res if len(res)!=0 else np.nan\n",
    "\n",
    "movies['director'] = movies['crew'].apply(get_director)\n",
    "movies['cast'] = movies['cast'].apply(get_cast_keywords,args=(3,))\n",
    "movies['keywords'] = movies['keywords'].apply(get_cast_keywords)\n",
    "\n",
    "movies.dropna(axis = 'index',subset=['keywords','cast','director'],how='all',inplace = True)"
   ]
  },
  {
   "cell_type": "markdown",
   "metadata": {},
   "source": [
    "+ created director attribute\n",
    "+ left only 3 top actors in the cast attribute\n",
    "+ extracted keywords"
   ]
  },
  {
   "cell_type": "markdown",
   "metadata": {},
   "source": [
    "## Preprocess cast and director attributes\n",
    "+ cast to lower\n",
    "+ delete spaces between words"
   ]
  },
  {
   "cell_type": "code",
   "execution_count": 109,
   "metadata": {
    "collapsed": true
   },
   "outputs": [],
   "source": [
    "movies['cast'] = movies['cast'].dropna().apply(\n",
    "    lambda x: [str.lower(i.replace(' ', '')) for i in x])\n",
    "movies['director'] = movies['director'].dropna().apply(\n",
    "    lambda x: [str.lower(str(x).replace(' ', ''))] * 3)"
   ]
  },
  {
   "cell_type": "markdown",
   "metadata": {},
   "source": [
    "## Drop keywords that occur only once"
   ]
  },
  {
   "cell_type": "code",
   "execution_count": 110,
   "metadata": {
    "collapsed": true
   },
   "outputs": [],
   "source": [
    "keywords_series = movies.apply(lambda x: pd.Series(x['keywords']),axis=1).stack()\n",
    "keywords_series = keywords_series.value_counts()\n",
    "keywords_series = keywords_series[keywords_series > 1]"
   ]
  },
  {
   "cell_type": "markdown",
   "metadata": {},
   "source": [
    "+ stem keywords\n",
    "+ delete spaces\n",
    "+ cast to lower case"
   ]
  },
  {
   "cell_type": "code",
   "execution_count": 111,
   "metadata": {
    "collapsed": true
   },
   "outputs": [],
   "source": [
    "stemmer = SnowballStemmer('english')"
   ]
  },
  {
   "cell_type": "code",
   "execution_count": 112,
   "metadata": {
    "collapsed": true
   },
   "outputs": [],
   "source": [
    "def process_keywords(x):\n",
    "    res = []\n",
    "    for i in x:\n",
    "        if i in keywords_series:\n",
    "            res.append(str.lower(stemmer.stem(i)).replace(' ',''))\n",
    "    return res\n",
    "\n",
    "movies['keywords'] = movies['keywords'].dropna().apply(process_keywords)"
   ]
  },
  {
   "cell_type": "markdown",
   "metadata": {},
   "source": [
    "# Create an attribute with all the needed data for the algorithm combined"
   ]
  },
  {
   "cell_type": "code",
   "execution_count": 113,
   "metadata": {
    "collapsed": true,
    "scrolled": false
   },
   "outputs": [],
   "source": [
    "movies[\n",
    "    'soup'] = movies['genres'] + movies['director'] + movies['cast'] + movies['keywords']\n",
    "movies['soup'] = movies['soup'].map(lambda x: ' '.join(x), na_action='ignore')\n",
    "movies.dropna(axis='index',subset=['soup'],how='all',inplace=True)"
   ]
  },
  {
   "cell_type": "markdown",
   "metadata": {},
   "source": [
    "## Create matrix with word counts"
   ]
  },
  {
   "cell_type": "code",
   "execution_count": 114,
   "metadata": {
    "collapsed": true
   },
   "outputs": [],
   "source": [
    "count = CountVectorizer(analyzer = 'word', ngram_range=(1,2), min_df=0.,stop_words='english')\n",
    "count_matrix = count.fit_transform(movies['soup'])"
   ]
  },
  {
   "cell_type": "markdown",
   "metadata": {},
   "source": [
    "## Calculate similarities between films"
   ]
  },
  {
   "cell_type": "code",
   "execution_count": 115,
   "metadata": {
    "collapsed": true,
    "scrolled": true
   },
   "outputs": [],
   "source": [
    "cosine_sim = cosine_similarity(count_matrix,count_matrix)"
   ]
  },
  {
   "cell_type": "markdown",
   "metadata": {},
   "source": [
    "## Make recommendations based on film name\n",
    "+ weighted_rating - IMDB's weighted rating formula"
   ]
  },
  {
   "cell_type": "code",
   "execution_count": 116,
   "metadata": {
    "collapsed": true
   },
   "outputs": [],
   "source": [
    "def weighted_rating(x, m, C):\n",
    "    v = x['vote_count']\n",
    "    R = x['vote_average']\n",
    "    return (v / (v + m) * R) + (m / (m + v) * C)\n",
    "\n",
    "\n",
    "def metadata_based_recommender(film_name, quantile_=0.6,n_movies=30):\n",
    "    idx = np.flatnonzero(movies['original_title'] == film_name)\n",
    "    if len(idx) != 0:\n",
    "        idx = idx[0]\n",
    "        top_list = list(enumerate(cosine_sim[idx]))\n",
    "        del top_list[idx]\n",
    "        top_list = sorted(top_list, key=itemgetter(1), reverse=True)\n",
    "\n",
    "        curr_movies = movies.iloc[np.array(top_list)[:n_movies, 0]]\n",
    "        m = curr_movies['vote_count'].quantile(quantile_)\n",
    "        C = curr_movies['vote_average'].mean()\n",
    "        curr_movies = curr_movies[(curr_movies['vote_count'] >= m)\n",
    "                                  & (curr_movies['vote_average'].notnull()) &\n",
    "                                  (curr_movies['vote_count'].notnull())]\n",
    "        curr_movies['wr'] = curr_movies.apply(\n",
    "            weighted_rating, args=(\n",
    "                m,\n",
    "                C,\n",
    "            ), axis='columns')\n",
    "        return curr_movies.sort_values(\n",
    "            by='wr',\n",
    "            ascending=False)[['title', 'vote_count', 'vote_average', 'genres']]"
   ]
  },
  {
   "cell_type": "markdown",
   "metadata": {},
   "source": [
    "## Make a prediction"
   ]
  },
  {
   "cell_type": "code",
   "execution_count": 117,
   "metadata": {
    "scrolled": true
   },
   "outputs": [
    {
     "data": {
      "text/html": [
       "<div>\n",
       "<style scoped>\n",
       "    .dataframe tbody tr th:only-of-type {\n",
       "        vertical-align: middle;\n",
       "    }\n",
       "\n",
       "    .dataframe tbody tr th {\n",
       "        vertical-align: top;\n",
       "    }\n",
       "\n",
       "    .dataframe thead th {\n",
       "        text-align: right;\n",
       "    }\n",
       "</style>\n",
       "<table border=\"1\" class=\"dataframe\">\n",
       "  <thead>\n",
       "    <tr style=\"text-align: right;\">\n",
       "      <th></th>\n",
       "      <th>title</th>\n",
       "      <th>vote_count</th>\n",
       "      <th>vote_average</th>\n",
       "      <th>genres</th>\n",
       "    </tr>\n",
       "  </thead>\n",
       "  <tbody>\n",
       "    <tr>\n",
       "      <th>17836</th>\n",
       "      <td>The Avengers</td>\n",
       "      <td>12000.0</td>\n",
       "      <td>7.40000000000000035527136788005009293556213378...</td>\n",
       "      <td>[Science Fiction, Action, Adventure]</td>\n",
       "    </tr>\n",
       "    <tr>\n",
       "      <th>25545</th>\n",
       "      <td>Kingsman: The Secret Service</td>\n",
       "      <td>6069.0</td>\n",
       "      <td>7.59999999999999964472863211994990706443786621...</td>\n",
       "      <td>[Crime, Comedy, Action, Adventure]</td>\n",
       "    </tr>\n",
       "    <tr>\n",
       "      <th>23065</th>\n",
       "      <td>Captain America: The Winter Soldier</td>\n",
       "      <td>5881.0</td>\n",
       "      <td>7.59999999999999964472863211994990706443786621...</td>\n",
       "      <td>[Action, Adventure, Science Fiction]</td>\n",
       "    </tr>\n",
       "    <tr>\n",
       "      <th>12600</th>\n",
       "      <td>Iron Man</td>\n",
       "      <td>8951.0</td>\n",
       "      <td>7.40000000000000035527136788005009293556213378...</td>\n",
       "      <td>[Action, Science Fiction, Adventure]</td>\n",
       "    </tr>\n",
       "    <tr>\n",
       "      <th>26569</th>\n",
       "      <td>Avengers: Age of Ultron</td>\n",
       "      <td>6908.0</td>\n",
       "      <td>7.29999999999999982236431605997495353221893310...</td>\n",
       "      <td>[Action, Adventure, Science Fiction]</td>\n",
       "    </tr>\n",
       "    <tr>\n",
       "      <th>26578</th>\n",
       "      <td>Captain America: Civil War</td>\n",
       "      <td>7462.0</td>\n",
       "      <td>7.09999999999999964472863211994990706443786621...</td>\n",
       "      <td>[Adventure, Action, Science Fiction]</td>\n",
       "    </tr>\n",
       "    <tr>\n",
       "      <th>17234</th>\n",
       "      <td>X-Men: First Class</td>\n",
       "      <td>5252.0</td>\n",
       "      <td>7.09999999999999964472863211994990706443786621...</td>\n",
       "      <td>[Action, Science Fiction, Adventure]</td>\n",
       "    </tr>\n",
       "    <tr>\n",
       "      <th>26573</th>\n",
       "      <td>Ant-Man</td>\n",
       "      <td>6029.0</td>\n",
       "      <td>7.00000000000000000000000000000000000000000000...</td>\n",
       "      <td>[Science Fiction, Action, Adventure]</td>\n",
       "    </tr>\n",
       "    <tr>\n",
       "      <th>20849</th>\n",
       "      <td>Iron Man 3</td>\n",
       "      <td>8951.0</td>\n",
       "      <td>6.79999999999999982236431605997495353221893310...</td>\n",
       "      <td>[Action, Adventure, Science Fiction]</td>\n",
       "    </tr>\n",
       "    <tr>\n",
       "      <th>17462</th>\n",
       "      <td>Captain America: The First Avenger</td>\n",
       "      <td>7174.0</td>\n",
       "      <td>6.59999999999999964472863211994990706443786621...</td>\n",
       "      <td>[Action, Adventure, Science Fiction]</td>\n",
       "    </tr>\n",
       "  </tbody>\n",
       "</table>\n",
       "</div>"
      ],
      "text/plain": [
       "                                     title  vote_count  \\\n",
       "17836                         The Avengers     12000.0   \n",
       "25545         Kingsman: The Secret Service      6069.0   \n",
       "23065  Captain America: The Winter Soldier      5881.0   \n",
       "12600                             Iron Man      8951.0   \n",
       "26569              Avengers: Age of Ultron      6908.0   \n",
       "26578           Captain America: Civil War      7462.0   \n",
       "17234                   X-Men: First Class      5252.0   \n",
       "26573                              Ant-Man      6029.0   \n",
       "20849                           Iron Man 3      8951.0   \n",
       "17462   Captain America: The First Avenger      7174.0   \n",
       "\n",
       "                                            vote_average  \\\n",
       "17836  7.40000000000000035527136788005009293556213378...   \n",
       "25545  7.59999999999999964472863211994990706443786621...   \n",
       "23065  7.59999999999999964472863211994990706443786621...   \n",
       "12600  7.40000000000000035527136788005009293556213378...   \n",
       "26569  7.29999999999999982236431605997495353221893310...   \n",
       "26578  7.09999999999999964472863211994990706443786621...   \n",
       "17234  7.09999999999999964472863211994990706443786621...   \n",
       "26573  7.00000000000000000000000000000000000000000000...   \n",
       "20849  6.79999999999999982236431605997495353221893310...   \n",
       "17462  6.59999999999999964472863211994990706443786621...   \n",
       "\n",
       "                                     genres  \n",
       "17836  [Science Fiction, Action, Adventure]  \n",
       "25545    [Crime, Comedy, Action, Adventure]  \n",
       "23065  [Action, Adventure, Science Fiction]  \n",
       "12600  [Action, Science Fiction, Adventure]  \n",
       "26569  [Action, Adventure, Science Fiction]  \n",
       "26578  [Adventure, Action, Science Fiction]  \n",
       "17234  [Action, Science Fiction, Adventure]  \n",
       "26573  [Science Fiction, Action, Adventure]  \n",
       "20849  [Action, Adventure, Science Fiction]  \n",
       "17462  [Action, Adventure, Science Fiction]  "
      ]
     },
     "execution_count": 117,
     "metadata": {},
     "output_type": "execute_result"
    }
   ],
   "source": [
    "metadata_based_recommender('Deadpool').head(10)"
   ]
  }
 ],
 "metadata": {
  "kernelspec": {
   "display_name": "Python 3",
   "language": "python",
   "name": "python3"
  },
  "language_info": {
   "codemirror_mode": {
    "name": "ipython",
    "version": 3
   },
   "file_extension": ".py",
   "mimetype": "text/x-python",
   "name": "python",
   "nbconvert_exporter": "python",
   "pygments_lexer": "ipython3",
   "version": "3.6.3"
  }
 },
 "nbformat": 4,
 "nbformat_minor": 2
}
