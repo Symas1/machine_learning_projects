{
  "nbformat": 4,
  "nbformat_minor": 0,
  "metadata": {
    "colab": {
      "name": "mnist_keras.ipynb",
      "version": "0.3.2",
      "provenance": []
    },
    "kernelspec": {
      "display_name": "Python 3",
      "language": "python",
      "name": "python3"
    },
    "accelerator": "GPU"
  },
  "cells": [
    {
      "metadata": {
        "id": "gO2zXaLc8urs",
        "colab_type": "text"
      },
      "cell_type": "markdown",
      "source": [
        "# MNIST dataset classification using Keras"
      ]
    },
    {
      "metadata": {
        "id": "S4O3nuaw8uru",
        "colab_type": "code",
        "colab": {}
      },
      "cell_type": "code",
      "source": [
        "import keras\n",
        "from keras import backend as K\n",
        "from keras.datasets import mnist\n",
        "from keras.models import Sequential\n",
        "from keras.layers import Dense, Dropout, Flatten\n",
        "from keras.layers import Conv2D, MaxPooling2D\n",
        "\n",
        "import numpy as np\n",
        "\n",
        "import matplotlib.pyplot as plt"
      ],
      "execution_count": 0,
      "outputs": []
    },
    {
      "metadata": {
        "id": "gbSwDRF78ury",
        "colab_type": "text"
      },
      "cell_type": "markdown",
      "source": [
        "## Set some parameters"
      ]
    },
    {
      "metadata": {
        "id": "KOwvUuoJ8ur0",
        "colab_type": "code",
        "colab": {}
      },
      "cell_type": "code",
      "source": [
        "batch_size = 128\n",
        "num_classes = 10\n",
        "epochs = 2\n",
        "\n",
        "# input image dimensions\n",
        "img_rows = 28\n",
        "img_cols = 28 "
      ],
      "execution_count": 0,
      "outputs": []
    },
    {
      "metadata": {
        "id": "dTcAmT3H8ur4",
        "colab_type": "text"
      },
      "cell_type": "markdown",
      "source": [
        "# Get MNIST dataset"
      ]
    },
    {
      "metadata": {
        "id": "hsyCKd9x8ur5",
        "colab_type": "code",
        "colab": {}
      },
      "cell_type": "code",
      "source": [
        "# the data, shuffled and split between train and test sets\n",
        "(x_train, y_train), (x_test, y_test) = mnist.load_data()\n",
        "\n",
        "if K.image_data_format() == 'channels_first':\n",
        "    x_train = x_train.reshape(x_train.shape[0], 1, img_rows, img_cols)\n",
        "    x_test = x_test.reshape(x_test.shape[0], 1, img_rows, img_cols)\n",
        "    input_shape = (1, img_rows, img_cols)\n",
        "else:\n",
        "    x_train = x_train.reshape(x_train.shape[0], img_rows, img_cols, 1)\n",
        "    x_test = x_test.reshape(x_test.shape[0], img_rows, img_cols, 1)\n",
        "    input_shape = (img_rows, img_cols, 1)"
      ],
      "execution_count": 0,
      "outputs": []
    },
    {
      "metadata": {
        "id": "jnHtlbP98ur-",
        "colab_type": "code",
        "colab": {
          "base_uri": "https://localhost:8080/",
          "height": 51
        },
        "outputId": "d76ce183-55e0-4a52-e0a8-1bcb555b0a2c"
      },
      "cell_type": "code",
      "source": [
        "print('X_train shape: {}, Y_train shape: {}'.format(x_train.shape,y_train.shape))\n",
        "print('X_test shape: {}, Y_test shape: {}'.format(x_test.shape,y_test.shape))"
      ],
      "execution_count": 4,
      "outputs": [
        {
          "output_type": "stream",
          "text": [
            "X_train shape: (60000, 28, 28, 1), Y_train shape: (60000,)\n",
            "X_test shape: (10000, 28, 28, 1), Y_test shape: (10000,)\n"
          ],
          "name": "stdout"
        }
      ]
    },
    {
      "metadata": {
        "id": "T7dyxt8Y8usD",
        "colab_type": "text"
      },
      "cell_type": "markdown",
      "source": [
        "# Preprocess image data"
      ]
    },
    {
      "metadata": {
        "id": "QdMLjnLD8usD",
        "colab_type": "code",
        "colab": {}
      },
      "cell_type": "code",
      "source": [
        "x_train = x_train.astype('float32')\n",
        "x_test = x_test.astype('float32')\n",
        "x_train /= 255\n",
        "x_test /= 255"
      ],
      "execution_count": 0,
      "outputs": []
    },
    {
      "metadata": {
        "id": "wHQoQI438usH",
        "colab_type": "code",
        "colab": {}
      },
      "cell_type": "code",
      "source": [
        "# convert class vectors to binary class matrices\n",
        "y_train = keras.utils.to_categorical(y_train, num_classes)\n",
        "y_test = keras.utils.to_categorical(y_test, num_classes)"
      ],
      "execution_count": 0,
      "outputs": []
    },
    {
      "metadata": {
        "id": "SLOgiyIo8usK",
        "colab_type": "code",
        "colab": {
          "base_uri": "https://localhost:8080/",
          "height": 51
        },
        "outputId": "b89e3193-2511-4a01-8410-672d347b2fe5"
      },
      "cell_type": "code",
      "source": [
        "print('X_train shape: {}, Y_train shape: {}'.format(x_train.shape,y_train.shape))\n",
        "print('X_test shape: {}, Y_test shape: {}'.format(x_test.shape,y_test.shape))"
      ],
      "execution_count": 7,
      "outputs": [
        {
          "output_type": "stream",
          "text": [
            "X_train shape: (60000, 28, 28, 1), Y_train shape: (60000, 10)\n",
            "X_test shape: (10000, 28, 28, 1), Y_test shape: (10000, 10)\n"
          ],
          "name": "stdout"
        }
      ]
    },
    {
      "metadata": {
        "id": "nphQvF6l8usP",
        "colab_type": "text"
      },
      "cell_type": "markdown",
      "source": [
        "# Build a CNN based deep neural network"
      ]
    },
    {
      "metadata": {
        "id": "_5SHSfrG8usP",
        "colab_type": "code",
        "colab": {}
      },
      "cell_type": "code",
      "source": [
        "model = Sequential()\n",
        "model.add(Conv2D(filters=32,kernel_size=(3,3),activation='relu',input_shape=input_shape))\n",
        "model.add(MaxPooling2D(pool_size=(2, 2)))\n",
        "model.add(Conv2D(filters=64,kernel_size=(3,3),activation='relu',input_shape=input_shape))\n",
        "model.add(MaxPooling2D(pool_size=(2, 2)))\n",
        "model.add(Dropout(rate=0.25))\n",
        "model.add(Flatten())\n",
        "model.add(Dense(units=128,activation='relu'))\n",
        "model.add(Dropout(rate=0.5))\n",
        "model.add(Dense(units=num_classes,activation='softmax'))"
      ],
      "execution_count": 0,
      "outputs": []
    },
    {
      "metadata": {
        "id": "289bHdLN8usT",
        "colab_type": "text"
      },
      "cell_type": "markdown",
      "source": [
        "# Visualize the network architecture"
      ]
    },
    {
      "metadata": {
        "id": "sJ-XzLHa8usV",
        "colab_type": "code",
        "colab": {
          "base_uri": "https://localhost:8080/",
          "height": 1090
        },
        "outputId": "9283a78e-448e-452e-e9c0-30ce54f94fd9"
      },
      "cell_type": "code",
      "source": [
        "from IPython.display import SVG\n",
        "from keras.utils.vis_utils import model_to_dot\n",
        "\n",
        "SVG(model_to_dot(model, show_shapes=True, \n",
        "                 show_layer_names=True, rankdir='TB').create(prog='dot', format='svg'))"
      ],
      "execution_count": 9,
      "outputs": [
        {
          "output_type": "execute_result",
          "data": {
            "text/plain": [
              "<IPython.core.display.SVG object>"
            ],
            "image/svg+xml": "<svg height=\"802pt\" viewBox=\"0.00 0.00 476.00 802.00\" width=\"476pt\" xmlns=\"http://www.w3.org/2000/svg\" xmlns:xlink=\"http://www.w3.org/1999/xlink\">\n<g class=\"graph\" id=\"graph0\" transform=\"scale(1 1) rotate(0) translate(4 798)\">\n<title>G</title>\n<polygon fill=\"white\" points=\"-4,4 -4,-798 472,-798 472,4 -4,4\" stroke=\"none\"/>\n<!-- 140499757297736 -->\n<g class=\"node\" id=\"node1\"><title>140499757297736</title>\n<polygon fill=\"none\" points=\"22,-747.5 22,-793.5 446,-793.5 446,-747.5 22,-747.5\" stroke=\"black\"/>\n<text font-family=\"Times,serif\" font-size=\"14.00\" text-anchor=\"middle\" x=\"131.5\" y=\"-766.8\">conv2d_1_input: InputLayer</text>\n<polyline fill=\"none\" points=\"241,-747.5 241,-793.5 \" stroke=\"black\"/>\n<text font-family=\"Times,serif\" font-size=\"14.00\" text-anchor=\"middle\" x=\"275\" y=\"-778.3\">input:</text>\n<polyline fill=\"none\" points=\"241,-770.5 309,-770.5 \" stroke=\"black\"/>\n<text font-family=\"Times,serif\" font-size=\"14.00\" text-anchor=\"middle\" x=\"275\" y=\"-755.3\">output:</text>\n<polyline fill=\"none\" points=\"309,-747.5 309,-793.5 \" stroke=\"black\"/>\n<text font-family=\"Times,serif\" font-size=\"14.00\" text-anchor=\"middle\" x=\"377.5\" y=\"-778.3\">(None, 28, 28, 1)</text>\n<polyline fill=\"none\" points=\"309,-770.5 446,-770.5 \" stroke=\"black\"/>\n<text font-family=\"Times,serif\" font-size=\"14.00\" text-anchor=\"middle\" x=\"377.5\" y=\"-755.3\">(None, 28, 28, 1)</text>\n</g>\n<!-- 140499757300088 -->\n<g class=\"node\" id=\"node2\"><title>140499757300088</title>\n<polygon fill=\"none\" points=\"51.5,-664.5 51.5,-710.5 416.5,-710.5 416.5,-664.5 51.5,-664.5\" stroke=\"black\"/>\n<text font-family=\"Times,serif\" font-size=\"14.00\" text-anchor=\"middle\" x=\"127\" y=\"-683.8\">conv2d_1: Conv2D</text>\n<polyline fill=\"none\" points=\"202.5,-664.5 202.5,-710.5 \" stroke=\"black\"/>\n<text font-family=\"Times,serif\" font-size=\"14.00\" text-anchor=\"middle\" x=\"236.5\" y=\"-695.3\">input:</text>\n<polyline fill=\"none\" points=\"202.5,-687.5 270.5,-687.5 \" stroke=\"black\"/>\n<text font-family=\"Times,serif\" font-size=\"14.00\" text-anchor=\"middle\" x=\"236.5\" y=\"-672.3\">output:</text>\n<polyline fill=\"none\" points=\"270.5,-664.5 270.5,-710.5 \" stroke=\"black\"/>\n<text font-family=\"Times,serif\" font-size=\"14.00\" text-anchor=\"middle\" x=\"343.5\" y=\"-695.3\">(None, 28, 28, 1)</text>\n<polyline fill=\"none\" points=\"270.5,-687.5 416.5,-687.5 \" stroke=\"black\"/>\n<text font-family=\"Times,serif\" font-size=\"14.00\" text-anchor=\"middle\" x=\"343.5\" y=\"-672.3\">(None, 26, 26, 32)</text>\n</g>\n<!-- 140499757297736&#45;&gt;140499757300088 -->\n<g class=\"edge\" id=\"edge1\"><title>140499757297736-&gt;140499757300088</title>\n<path d=\"M234,-747.366C234,-739.152 234,-729.658 234,-720.725\" fill=\"none\" stroke=\"black\"/>\n<polygon fill=\"black\" points=\"237.5,-720.607 234,-710.607 230.5,-720.607 237.5,-720.607\" stroke=\"black\"/>\n</g>\n<!-- 140499757300984 -->\n<g class=\"node\" id=\"node3\"><title>140499757300984</title>\n<polygon fill=\"none\" points=\"0,-581.5 0,-627.5 468,-627.5 468,-581.5 0,-581.5\" stroke=\"black\"/>\n<text font-family=\"Times,serif\" font-size=\"14.00\" text-anchor=\"middle\" x=\"127\" y=\"-600.8\">max_pooling2d_1: MaxPooling2D</text>\n<polyline fill=\"none\" points=\"254,-581.5 254,-627.5 \" stroke=\"black\"/>\n<text font-family=\"Times,serif\" font-size=\"14.00\" text-anchor=\"middle\" x=\"288\" y=\"-612.3\">input:</text>\n<polyline fill=\"none\" points=\"254,-604.5 322,-604.5 \" stroke=\"black\"/>\n<text font-family=\"Times,serif\" font-size=\"14.00\" text-anchor=\"middle\" x=\"288\" y=\"-589.3\">output:</text>\n<polyline fill=\"none\" points=\"322,-581.5 322,-627.5 \" stroke=\"black\"/>\n<text font-family=\"Times,serif\" font-size=\"14.00\" text-anchor=\"middle\" x=\"395\" y=\"-612.3\">(None, 26, 26, 32)</text>\n<polyline fill=\"none\" points=\"322,-604.5 468,-604.5 \" stroke=\"black\"/>\n<text font-family=\"Times,serif\" font-size=\"14.00\" text-anchor=\"middle\" x=\"395\" y=\"-589.3\">(None, 13, 13, 32)</text>\n</g>\n<!-- 140499757300088&#45;&gt;140499757300984 -->\n<g class=\"edge\" id=\"edge2\"><title>140499757300088-&gt;140499757300984</title>\n<path d=\"M234,-664.366C234,-656.152 234,-646.658 234,-637.725\" fill=\"none\" stroke=\"black\"/>\n<polygon fill=\"black\" points=\"237.5,-637.607 234,-627.607 230.5,-637.607 237.5,-637.607\" stroke=\"black\"/>\n</g>\n<!-- 140499757297960 -->\n<g class=\"node\" id=\"node4\"><title>140499757297960</title>\n<polygon fill=\"none\" points=\"51.5,-498.5 51.5,-544.5 416.5,-544.5 416.5,-498.5 51.5,-498.5\" stroke=\"black\"/>\n<text font-family=\"Times,serif\" font-size=\"14.00\" text-anchor=\"middle\" x=\"127\" y=\"-517.8\">conv2d_2: Conv2D</text>\n<polyline fill=\"none\" points=\"202.5,-498.5 202.5,-544.5 \" stroke=\"black\"/>\n<text font-family=\"Times,serif\" font-size=\"14.00\" text-anchor=\"middle\" x=\"236.5\" y=\"-529.3\">input:</text>\n<polyline fill=\"none\" points=\"202.5,-521.5 270.5,-521.5 \" stroke=\"black\"/>\n<text font-family=\"Times,serif\" font-size=\"14.00\" text-anchor=\"middle\" x=\"236.5\" y=\"-506.3\">output:</text>\n<polyline fill=\"none\" points=\"270.5,-498.5 270.5,-544.5 \" stroke=\"black\"/>\n<text font-family=\"Times,serif\" font-size=\"14.00\" text-anchor=\"middle\" x=\"343.5\" y=\"-529.3\">(None, 13, 13, 32)</text>\n<polyline fill=\"none\" points=\"270.5,-521.5 416.5,-521.5 \" stroke=\"black\"/>\n<text font-family=\"Times,serif\" font-size=\"14.00\" text-anchor=\"middle\" x=\"343.5\" y=\"-506.3\">(None, 11, 11, 64)</text>\n</g>\n<!-- 140499757300984&#45;&gt;140499757297960 -->\n<g class=\"edge\" id=\"edge3\"><title>140499757300984-&gt;140499757297960</title>\n<path d=\"M234,-581.366C234,-573.152 234,-563.658 234,-554.725\" fill=\"none\" stroke=\"black\"/>\n<polygon fill=\"black\" points=\"237.5,-554.607 234,-544.607 230.5,-554.607 237.5,-554.607\" stroke=\"black\"/>\n</g>\n<!-- 140499748595472 -->\n<g class=\"node\" id=\"node5\"><title>140499748595472</title>\n<polygon fill=\"none\" points=\"0,-415.5 0,-461.5 468,-461.5 468,-415.5 0,-415.5\" stroke=\"black\"/>\n<text font-family=\"Times,serif\" font-size=\"14.00\" text-anchor=\"middle\" x=\"127\" y=\"-434.8\">max_pooling2d_2: MaxPooling2D</text>\n<polyline fill=\"none\" points=\"254,-415.5 254,-461.5 \" stroke=\"black\"/>\n<text font-family=\"Times,serif\" font-size=\"14.00\" text-anchor=\"middle\" x=\"288\" y=\"-446.3\">input:</text>\n<polyline fill=\"none\" points=\"254,-438.5 322,-438.5 \" stroke=\"black\"/>\n<text font-family=\"Times,serif\" font-size=\"14.00\" text-anchor=\"middle\" x=\"288\" y=\"-423.3\">output:</text>\n<polyline fill=\"none\" points=\"322,-415.5 322,-461.5 \" stroke=\"black\"/>\n<text font-family=\"Times,serif\" font-size=\"14.00\" text-anchor=\"middle\" x=\"395\" y=\"-446.3\">(None, 11, 11, 64)</text>\n<polyline fill=\"none\" points=\"322,-438.5 468,-438.5 \" stroke=\"black\"/>\n<text font-family=\"Times,serif\" font-size=\"14.00\" text-anchor=\"middle\" x=\"395\" y=\"-423.3\">(None, 5, 5, 64)</text>\n</g>\n<!-- 140499757297960&#45;&gt;140499748595472 -->\n<g class=\"edge\" id=\"edge4\"><title>140499757297960-&gt;140499748595472</title>\n<path d=\"M234,-498.366C234,-490.152 234,-480.658 234,-471.725\" fill=\"none\" stroke=\"black\"/>\n<polygon fill=\"black\" points=\"237.5,-471.607 234,-461.607 230.5,-471.607 237.5,-471.607\" stroke=\"black\"/>\n</g>\n<!-- 140499757372752 -->\n<g class=\"node\" id=\"node6\"><title>140499757372752</title>\n<polygon fill=\"none\" points=\"57.5,-332.5 57.5,-378.5 410.5,-378.5 410.5,-332.5 57.5,-332.5\" stroke=\"black\"/>\n<text font-family=\"Times,serif\" font-size=\"14.00\" text-anchor=\"middle\" x=\"136\" y=\"-351.8\">dropout_1: Dropout</text>\n<polyline fill=\"none\" points=\"214.5,-332.5 214.5,-378.5 \" stroke=\"black\"/>\n<text font-family=\"Times,serif\" font-size=\"14.00\" text-anchor=\"middle\" x=\"248.5\" y=\"-363.3\">input:</text>\n<polyline fill=\"none\" points=\"214.5,-355.5 282.5,-355.5 \" stroke=\"black\"/>\n<text font-family=\"Times,serif\" font-size=\"14.00\" text-anchor=\"middle\" x=\"248.5\" y=\"-340.3\">output:</text>\n<polyline fill=\"none\" points=\"282.5,-332.5 282.5,-378.5 \" stroke=\"black\"/>\n<text font-family=\"Times,serif\" font-size=\"14.00\" text-anchor=\"middle\" x=\"346.5\" y=\"-363.3\">(None, 5, 5, 64)</text>\n<polyline fill=\"none\" points=\"282.5,-355.5 410.5,-355.5 \" stroke=\"black\"/>\n<text font-family=\"Times,serif\" font-size=\"14.00\" text-anchor=\"middle\" x=\"346.5\" y=\"-340.3\">(None, 5, 5, 64)</text>\n</g>\n<!-- 140499748595472&#45;&gt;140499757372752 -->\n<g class=\"edge\" id=\"edge5\"><title>140499748595472-&gt;140499757372752</title>\n<path d=\"M234,-415.366C234,-407.152 234,-397.658 234,-388.725\" fill=\"none\" stroke=\"black\"/>\n<polygon fill=\"black\" points=\"237.5,-388.607 234,-378.607 230.5,-388.607 237.5,-388.607\" stroke=\"black\"/>\n</g>\n<!-- 140499748595976 -->\n<g class=\"node\" id=\"node7\"><title>140499748595976</title>\n<polygon fill=\"none\" points=\"65.5,-249.5 65.5,-295.5 402.5,-295.5 402.5,-249.5 65.5,-249.5\" stroke=\"black\"/>\n<text font-family=\"Times,serif\" font-size=\"14.00\" text-anchor=\"middle\" x=\"136\" y=\"-268.8\">flatten_1: Flatten</text>\n<polyline fill=\"none\" points=\"206.5,-249.5 206.5,-295.5 \" stroke=\"black\"/>\n<text font-family=\"Times,serif\" font-size=\"14.00\" text-anchor=\"middle\" x=\"240.5\" y=\"-280.3\">input:</text>\n<polyline fill=\"none\" points=\"206.5,-272.5 274.5,-272.5 \" stroke=\"black\"/>\n<text font-family=\"Times,serif\" font-size=\"14.00\" text-anchor=\"middle\" x=\"240.5\" y=\"-257.3\">output:</text>\n<polyline fill=\"none\" points=\"274.5,-249.5 274.5,-295.5 \" stroke=\"black\"/>\n<text font-family=\"Times,serif\" font-size=\"14.00\" text-anchor=\"middle\" x=\"338.5\" y=\"-280.3\">(None, 5, 5, 64)</text>\n<polyline fill=\"none\" points=\"274.5,-272.5 402.5,-272.5 \" stroke=\"black\"/>\n<text font-family=\"Times,serif\" font-size=\"14.00\" text-anchor=\"middle\" x=\"338.5\" y=\"-257.3\">(None, 1600)</text>\n</g>\n<!-- 140499757372752&#45;&gt;140499748595976 -->\n<g class=\"edge\" id=\"edge6\"><title>140499757372752-&gt;140499748595976</title>\n<path d=\"M234,-332.366C234,-324.152 234,-314.658 234,-305.725\" fill=\"none\" stroke=\"black\"/>\n<polygon fill=\"black\" points=\"237.5,-305.607 234,-295.607 230.5,-305.607 237.5,-305.607\" stroke=\"black\"/>\n</g>\n<!-- 140499757374768 -->\n<g class=\"node\" id=\"node8\"><title>140499757374768</title>\n<polygon fill=\"none\" points=\"81,-166.5 81,-212.5 387,-212.5 387,-166.5 81,-166.5\" stroke=\"black\"/>\n<text font-family=\"Times,serif\" font-size=\"14.00\" text-anchor=\"middle\" x=\"145\" y=\"-185.8\">dense_1: Dense</text>\n<polyline fill=\"none\" points=\"209,-166.5 209,-212.5 \" stroke=\"black\"/>\n<text font-family=\"Times,serif\" font-size=\"14.00\" text-anchor=\"middle\" x=\"243\" y=\"-197.3\">input:</text>\n<polyline fill=\"none\" points=\"209,-189.5 277,-189.5 \" stroke=\"black\"/>\n<text font-family=\"Times,serif\" font-size=\"14.00\" text-anchor=\"middle\" x=\"243\" y=\"-174.3\">output:</text>\n<polyline fill=\"none\" points=\"277,-166.5 277,-212.5 \" stroke=\"black\"/>\n<text font-family=\"Times,serif\" font-size=\"14.00\" text-anchor=\"middle\" x=\"332\" y=\"-197.3\">(None, 1600)</text>\n<polyline fill=\"none\" points=\"277,-189.5 387,-189.5 \" stroke=\"black\"/>\n<text font-family=\"Times,serif\" font-size=\"14.00\" text-anchor=\"middle\" x=\"332\" y=\"-174.3\">(None, 128)</text>\n</g>\n<!-- 140499748595976&#45;&gt;140499757374768 -->\n<g class=\"edge\" id=\"edge7\"><title>140499748595976-&gt;140499757374768</title>\n<path d=\"M234,-249.366C234,-241.152 234,-231.658 234,-222.725\" fill=\"none\" stroke=\"black\"/>\n<polygon fill=\"black\" points=\"237.5,-222.607 234,-212.607 230.5,-222.607 237.5,-222.607\" stroke=\"black\"/>\n</g>\n<!-- 140499748688504 -->\n<g class=\"node\" id=\"node9\"><title>140499748688504</title>\n<polygon fill=\"none\" points=\"71,-83.5 71,-129.5 397,-129.5 397,-83.5 71,-83.5\" stroke=\"black\"/>\n<text font-family=\"Times,serif\" font-size=\"14.00\" text-anchor=\"middle\" x=\"149.5\" y=\"-102.8\">dropout_2: Dropout</text>\n<polyline fill=\"none\" points=\"228,-83.5 228,-129.5 \" stroke=\"black\"/>\n<text font-family=\"Times,serif\" font-size=\"14.00\" text-anchor=\"middle\" x=\"262\" y=\"-114.3\">input:</text>\n<polyline fill=\"none\" points=\"228,-106.5 296,-106.5 \" stroke=\"black\"/>\n<text font-family=\"Times,serif\" font-size=\"14.00\" text-anchor=\"middle\" x=\"262\" y=\"-91.3\">output:</text>\n<polyline fill=\"none\" points=\"296,-83.5 296,-129.5 \" stroke=\"black\"/>\n<text font-family=\"Times,serif\" font-size=\"14.00\" text-anchor=\"middle\" x=\"346.5\" y=\"-114.3\">(None, 128)</text>\n<polyline fill=\"none\" points=\"296,-106.5 397,-106.5 \" stroke=\"black\"/>\n<text font-family=\"Times,serif\" font-size=\"14.00\" text-anchor=\"middle\" x=\"346.5\" y=\"-91.3\">(None, 128)</text>\n</g>\n<!-- 140499757374768&#45;&gt;140499748688504 -->\n<g class=\"edge\" id=\"edge8\"><title>140499757374768-&gt;140499748688504</title>\n<path d=\"M234,-166.366C234,-158.152 234,-148.658 234,-139.725\" fill=\"none\" stroke=\"black\"/>\n<polygon fill=\"black\" points=\"237.5,-139.607 234,-129.607 230.5,-139.607 237.5,-139.607\" stroke=\"black\"/>\n</g>\n<!-- 140499748411488 -->\n<g class=\"node\" id=\"node10\"><title>140499748411488</title>\n<polygon fill=\"none\" points=\"85.5,-0.5 85.5,-46.5 382.5,-46.5 382.5,-0.5 85.5,-0.5\" stroke=\"black\"/>\n<text font-family=\"Times,serif\" font-size=\"14.00\" text-anchor=\"middle\" x=\"149.5\" y=\"-19.8\">dense_2: Dense</text>\n<polyline fill=\"none\" points=\"213.5,-0.5 213.5,-46.5 \" stroke=\"black\"/>\n<text font-family=\"Times,serif\" font-size=\"14.00\" text-anchor=\"middle\" x=\"247.5\" y=\"-31.3\">input:</text>\n<polyline fill=\"none\" points=\"213.5,-23.5 281.5,-23.5 \" stroke=\"black\"/>\n<text font-family=\"Times,serif\" font-size=\"14.00\" text-anchor=\"middle\" x=\"247.5\" y=\"-8.3\">output:</text>\n<polyline fill=\"none\" points=\"281.5,-0.5 281.5,-46.5 \" stroke=\"black\"/>\n<text font-family=\"Times,serif\" font-size=\"14.00\" text-anchor=\"middle\" x=\"332\" y=\"-31.3\">(None, 128)</text>\n<polyline fill=\"none\" points=\"281.5,-23.5 382.5,-23.5 \" stroke=\"black\"/>\n<text font-family=\"Times,serif\" font-size=\"14.00\" text-anchor=\"middle\" x=\"332\" y=\"-8.3\">(None, 10)</text>\n</g>\n<!-- 140499748688504&#45;&gt;140499748411488 -->\n<g class=\"edge\" id=\"edge9\"><title>140499748688504-&gt;140499748411488</title>\n<path d=\"M234,-83.3664C234,-75.1516 234,-65.6579 234,-56.7252\" fill=\"none\" stroke=\"black\"/>\n<polygon fill=\"black\" points=\"237.5,-56.6068 234,-46.6068 230.5,-56.6069 237.5,-56.6068\" stroke=\"black\"/>\n</g>\n</g>\n</svg>"
          },
          "metadata": {
            "tags": []
          },
          "execution_count": 9
        }
      ]
    },
    {
      "metadata": {
        "id": "BiwEGHkp8usa",
        "colab_type": "text"
      },
      "cell_type": "markdown",
      "source": [
        "# Compile the model"
      ]
    },
    {
      "metadata": {
        "id": "RrXfUsfx8usc",
        "colab_type": "code",
        "colab": {}
      },
      "cell_type": "code",
      "source": [
        "model.compile(loss=keras.losses.categorical_crossentropy,\n",
        "              optimizer=keras.optimizers.Adam(lr=0.01),\n",
        "              metrics=['accuracy'])"
      ],
      "execution_count": 0,
      "outputs": []
    },
    {
      "metadata": {
        "id": "nmpFCEt38usf",
        "colab_type": "text"
      },
      "cell_type": "markdown",
      "source": [
        "# Train the classifier"
      ]
    },
    {
      "metadata": {
        "id": "JqLR-X8K8usg",
        "colab_type": "code",
        "colab": {
          "base_uri": "https://localhost:8080/",
          "height": 221
        },
        "outputId": "11b96b06-e3e3-4595-cf0d-7588610ef6f1"
      },
      "cell_type": "code",
      "source": [
        "model.fit(x_train, y_train,\n",
        "          batch_size=batch_size,\n",
        "          epochs=5,\n",
        "          verbose=1,\n",
        "          validation_data=(x_test, y_test))"
      ],
      "execution_count": 11,
      "outputs": [
        {
          "output_type": "stream",
          "text": [
            "Train on 60000 samples, validate on 10000 samples\n",
            "Epoch 1/5\n",
            "60000/60000 [==============================] - 8s 135us/step - loss: 0.2193 - acc: 0.9331 - val_loss: 0.0546 - val_acc: 0.9829\n",
            "Epoch 2/5\n",
            "60000/60000 [==============================] - 7s 110us/step - loss: 0.1195 - acc: 0.9654 - val_loss: 0.0449 - val_acc: 0.9848\n",
            "Epoch 3/5\n",
            "60000/60000 [==============================] - 7s 109us/step - loss: 0.1100 - acc: 0.9684 - val_loss: 0.0372 - val_acc: 0.9885\n",
            "Epoch 4/5\n",
            "60000/60000 [==============================] - 7s 110us/step - loss: 0.1105 - acc: 0.9688 - val_loss: 0.0442 - val_acc: 0.9859\n",
            "Epoch 5/5\n",
            "60000/60000 [==============================] - 7s 109us/step - loss: 0.0958 - acc: 0.9729 - val_loss: 0.0349 - val_acc: 0.9900\n"
          ],
          "name": "stdout"
        },
        {
          "output_type": "execute_result",
          "data": {
            "text/plain": [
              "<keras.callbacks.History at 0x7fc8a58965c0>"
            ]
          },
          "metadata": {
            "tags": []
          },
          "execution_count": 11
        }
      ]
    },
    {
      "metadata": {
        "id": "95ToldV-8usq",
        "colab_type": "text"
      },
      "cell_type": "markdown",
      "source": [
        "# Predict and test model performance"
      ]
    },
    {
      "metadata": {
        "id": "1GY0pGuz8usr",
        "colab_type": "code",
        "colab": {
          "base_uri": "https://localhost:8080/",
          "height": 34
        },
        "outputId": "27b2ddce-0112-48e0-9f6c-158e4190e887"
      },
      "cell_type": "code",
      "source": [
        "score  =  model.evaluate(x_test, y_test, verbose=1)"
      ],
      "execution_count": 13,
      "outputs": [
        {
          "output_type": "stream",
          "text": [
            "10000/10000 [==============================] - 1s 96us/step\n"
          ],
          "name": "stdout"
        }
      ]
    },
    {
      "metadata": {
        "id": "7RjPWE3g8usu",
        "colab_type": "code",
        "colab": {
          "base_uri": "https://localhost:8080/",
          "height": 51
        },
        "outputId": "8005c069-9ebc-41a7-e84f-6ad01b0394c5"
      },
      "cell_type": "code",
      "source": [
        "print('Test loss:', score[0])\n",
        "print('Test accuracy:', score[1])"
      ],
      "execution_count": 14,
      "outputs": [
        {
          "output_type": "stream",
          "text": [
            "Test loss: 0.03491694972767909\n",
            "Test accuracy: 0.99\n"
          ],
          "name": "stdout"
        }
      ]
    },
    {
      "metadata": {
        "id": "R63o9TnZ8us1",
        "colab_type": "text"
      },
      "cell_type": "markdown",
      "source": [
        "# How CNN Classifies an Image? "
      ]
    },
    {
      "metadata": {
        "id": "NV_eAMok8us4",
        "colab_type": "code",
        "colab": {}
      },
      "cell_type": "code",
      "source": [
        "test_image =np.expand_dims(x_test[4], axis=3)\n",
        "test_image = test_image.reshape(1,img_rows, img_cols,1)"
      ],
      "execution_count": 0,
      "outputs": []
    },
    {
      "metadata": {
        "id": "63ELmwf5-Wav",
        "colab_type": "code",
        "colab": {
          "base_uri": "https://localhost:8080/",
          "height": 364
        },
        "outputId": "1ffb8ecd-83b6-478d-e6cb-13940b9f80b0"
      },
      "cell_type": "code",
      "source": [
        "plt.imshow(x_test[4][:,:,0], cmap=plt.get_cmap('binary'))"
      ],
      "execution_count": 18,
      "outputs": [
        {
          "output_type": "execute_result",
          "data": {
            "text/plain": [
              "<matplotlib.image.AxesImage at 0x7fc88b0d8e10>"
            ]
          },
          "metadata": {
            "tags": []
          },
          "execution_count": 18
        },
        {
          "output_type": "display_data",
          "data": {
            "image/png": "[encoded data removed]",
            "text/plain": [
              "<matplotlib.figure.Figure at 0x7fc89ef110b8>"
            ]
          },
          "metadata": {
            "tags": []
          }
        }
      ]
    },
    {
      "metadata": {
        "id": "s_Ru7BpQ-boF",
        "colab_type": "code",
        "colab": {
          "base_uri": "https://localhost:8080/",
          "height": 34
        },
        "outputId": "2b464c40-b1fc-465d-996f-13abcabe0908"
      },
      "cell_type": "code",
      "source": [
        "y_test[4]"
      ],
      "execution_count": 19,
      "outputs": [
        {
          "output_type": "execute_result",
          "data": {
            "text/plain": [
              "array([0., 0., 0., 0., 1., 0., 0., 0., 0., 0.], dtype=float32)"
            ]
          },
          "metadata": {
            "tags": []
          },
          "execution_count": 19
        }
      ]
    },
    {
      "metadata": {
        "id": "3jIIXlBM-ebz",
        "colab_type": "code",
        "colab": {
          "base_uri": "https://localhost:8080/",
          "height": 34
        },
        "outputId": "b3e501f8-fd44-446f-b7c5-3431c9ea9d0e"
      },
      "cell_type": "code",
      "source": [
        "model.predict_classes(test_image,batch_size=1)"
      ],
      "execution_count": 20,
      "outputs": [
        {
          "output_type": "execute_result",
          "data": {
            "text/plain": [
              "array([4])"
            ]
          },
          "metadata": {
            "tags": []
          },
          "execution_count": 20
        }
      ]
    },
    {
      "metadata": {
        "id": "z_ag5Cgr-iJh",
        "colab_type": "text"
      },
      "cell_type": "markdown",
      "source": [
        "## Utility Methods to understand CNN\n",
        "+ source: https://github.com/fchollet/keras/issues/431\n",
        "+ source: https://github.com/philipperemy/keras-visualize-activations/blob/master/read_activations.py"
      ]
    },
    {
      "metadata": {
        "id": "cBRiz-Ae-jox",
        "colab_type": "code",
        "colab": {}
      },
      "cell_type": "code",
      "source": [
        "# https://github.com/fchollet/keras/issues/431\n",
        "def get_activations(model, model_inputs, print_shape_only=True, layer_name=None):\n",
        "    import keras.backend as K\n",
        "    print('----- activations -----')\n",
        "    activations = []\n",
        "    inp = model.input\n",
        "\n",
        "    model_multi_inputs_cond = True\n",
        "    if not isinstance(inp, list):\n",
        "        # only one input! let's wrap it in a list.\n",
        "        inp = [inp]\n",
        "        model_multi_inputs_cond = False\n",
        "\n",
        "    outputs = [layer.output for layer in model.layers if\n",
        "               layer.name == layer_name or layer_name is None]  # all layer outputs\n",
        "\n",
        "    funcs = [K.function(inp + [K.learning_phase()], [out]) for out in outputs]  # evaluation functions\n",
        "\n",
        "    if model_multi_inputs_cond:\n",
        "        list_inputs = []\n",
        "        list_inputs.extend(model_inputs)\n",
        "        list_inputs.append(1.)\n",
        "    else:\n",
        "        list_inputs = [model_inputs, 1.]\n",
        "\n",
        "    # Learning phase. 1 = Test mode (no dropout or batch normalization)\n",
        "    # layer_outputs = [func([model_inputs, 1.])[0] for func in funcs]\n",
        "    layer_outputs = [func(list_inputs)[0] for func in funcs]\n",
        "    for layer_activations in layer_outputs:\n",
        "        activations.append(layer_activations)\n",
        "        if print_shape_only:\n",
        "            print(layer_activations.shape)\n",
        "        else:\n",
        "            print(layer_activations)\n",
        "    return activations"
      ],
      "execution_count": 0,
      "outputs": []
    },
    {
      "metadata": {
        "id": "PosDA_wg-lT4",
        "colab_type": "code",
        "colab": {}
      },
      "cell_type": "code",
      "source": [
        "# https://github.com/philipperemy/keras-visualize-activations/blob/master/read_activations.py\n",
        "def display_activations(activation_maps):\n",
        "    import numpy as np\n",
        "    import matplotlib.pyplot as plt\n",
        "    \"\"\"\n",
        "    (1, 26, 26, 32)\n",
        "    (1, 24, 24, 64)\n",
        "    (1, 12, 12, 64)\n",
        "    (1, 12, 12, 64)\n",
        "    (1, 9216)\n",
        "    (1, 128)\n",
        "    (1, 128)\n",
        "    (1, 10)\n",
        "    \"\"\"\n",
        "    batch_size = activation_maps[0].shape[0]\n",
        "    assert batch_size == 1, 'One image at a time to visualize.'\n",
        "    for i, activation_map in enumerate(activation_maps):\n",
        "        print('Displaying activation map {}'.format(i))\n",
        "        shape = activation_map.shape\n",
        "        if len(shape) == 4:\n",
        "            activations = np.hstack(np.transpose(activation_map[0], (2, 0, 1)))\n",
        "        elif len(shape) == 2:\n",
        "            # try to make it square as much as possible. we can skip some activations.\n",
        "            activations = activation_map[0]\n",
        "            num_activations = len(activations)\n",
        "            if num_activations > 1024:  # too hard to display it on the screen.\n",
        "                square_param = int(np.floor(np.sqrt(num_activations)))\n",
        "                activations = activations[0: square_param * square_param]\n",
        "                activations = np.reshape(activations, (square_param, square_param))\n",
        "            else:\n",
        "                activations = np.expand_dims(activations, axis=0)\n",
        "        else:\n",
        "            raise Exception('len(shape) = 3 has not been implemented.')\n",
        "        plt.imshow(activations, interpolation='None', cmap='binary')\n",
        "        plt.show()"
      ],
      "execution_count": 0,
      "outputs": []
    },
    {
      "metadata": {
        "id": "fG5CEaOC-nN0",
        "colab_type": "code",
        "colab": {
          "base_uri": "https://localhost:8080/",
          "height": 187
        },
        "outputId": "fd2a7fb5-9e96-4f40-aa44-60cf6ac0de33"
      },
      "cell_type": "code",
      "source": [
        "activations = get_activations(model, test_image)"
      ],
      "execution_count": 23,
      "outputs": [
        {
          "output_type": "stream",
          "text": [
            "----- activations -----\n",
            "(1, 26, 26, 32)\n",
            "(1, 13, 13, 32)\n",
            "(1, 11, 11, 64)\n",
            "(1, 5, 5, 64)\n",
            "(1, 5, 5, 64)\n",
            "(1, 1600)\n",
            "(1, 128)\n",
            "(1, 128)\n",
            "(1, 10)\n"
          ],
          "name": "stdout"
        }
      ]
    },
    {
      "metadata": {
        "id": "UiC9Z7Ck-oy0",
        "colab_type": "code",
        "colab": {
          "base_uri": "https://localhost:8080/",
          "height": 877
        },
        "outputId": "031645c1-d9d0-4993-c2d3-d9d69ad883c2"
      },
      "cell_type": "code",
      "source": [
        "display_activations(activations)"
      ],
      "execution_count": 24,
      "outputs": [
        {
          "output_type": "stream",
          "text": [
            "Displaying activation map 0\n"
          ],
          "name": "stdout"
        },
        {
          "output_type": "display_data",
          "data": {
            "image/png": "[encoded data removed]",
            "text/plain": [
              "<matplotlib.figure.Figure at 0x7fc888451550>"
            ]
          },
          "metadata": {
            "tags": []
          }
        },
        {
          "output_type": "stream",
          "text": [
            "Displaying activation map 1\n"
          ],
          "name": "stdout"
        },
        {
          "output_type": "display_data",
          "data": {
            "image/png": "[encoded data removed]",
            "text/plain": [
              "<matplotlib.figure.Figure at 0x7fc88840cda0>"
            ]
          },
          "metadata": {
            "tags": []
          }
        },
        {
          "output_type": "stream",
          "text": [
            "Displaying activation map 2\n"
          ],
          "name": "stdout"
        },
        {
          "output_type": "display_data",
          "data": {
            "image/png": "[encoded data removed]",
            "text/plain": [
              "<matplotlib.figure.Figure at 0x7fc8883f5860>"
            ]
          },
          "metadata": {
            "tags": []
          }
        },
        {
          "output_type": "stream",
          "text": [
            "Displaying activation map 3\n"
          ],
          "name": "stdout"
        },
        {
          "output_type": "display_data",
          "data": {
            "image/png": "[encoded data removed]",
            "text/plain": [
              "<matplotlib.figure.Figure at 0x7fc888469710>"
            ]
          },
          "metadata": {
            "tags": []
          }
        },
        {
          "output_type": "stream",
          "text": [
            "Displaying activation map 4\n"
          ],
          "name": "stdout"
        },
        {
          "output_type": "display_data",
          "data": {
            "image/png": "[encoded data removed]",
            "text/plain": [
              "<matplotlib.figure.Figure at 0x7fc888413978>"
            ]
          },
          "metadata": {
            "tags": []
          }
        },
        {
          "output_type": "stream",
          "text": [
            "Displaying activation map 5\n"
          ],
          "name": "stdout"
        },
        {
          "output_type": "display_data",
          "data": {
            "image/png": "[encoded data removed]",
            "text/plain": [
              "<matplotlib.figure.Figure at 0x7fc8882d2898>"
            ]
          },
          "metadata": {
            "tags": []
          }
        },
        {
          "output_type": "stream",
          "text": [
            "Displaying activation map 6\n"
          ],
          "name": "stdout"
        },
        {
          "output_type": "display_data",
          "data": {
            "image/png": "[encoded data removed]",
            "text/plain": [
              "<matplotlib.figure.Figure at 0x7fc88824d898>"
            ]
          },
          "metadata": {
            "tags": []
          }
        },
        {
          "output_type": "stream",
          "text": [
            "Displaying activation map 7\n"
          ],
          "name": "stdout"
        },
        {
          "output_type": "display_data",
          "data": {
            "image/png": "[encoded data removed]",
            "text/plain": [
              "<matplotlib.figure.Figure at 0x7fc887e34320>"
            ]
          },
          "metadata": {
            "tags": []
          }
        },
        {
          "output_type": "stream",
          "text": [
            "Displaying activation map 8\n"
          ],
          "name": "stdout"
        },
        {
          "output_type": "display_data",
          "data": {
            "image/png": "[encoded data removed]",
            "text/plain": [
              "<matplotlib.figure.Figure at 0x7fc887e02f60>"
            ]
          },
          "metadata": {
            "tags": []
          }
        }
      ]
    }
  ]
}