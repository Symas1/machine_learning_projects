{
 "cells": [
  {
   "cell_type": "markdown",
   "metadata": {
    "colab_type": "text",
    "id": "zXQtlJY1Z6yn"
   },
   "source": [
    "# Deep Learning and Transfer Learning with pre-trained models of CIFAR10 dataset\n",
    "\n",
    "This notebook uses a pretrained model to build a classifier (CNN)"
   ]
  },
  {
   "cell_type": "markdown",
   "metadata": {
    "colab_type": "text",
    "id": "YNjKV6iYZ6yo"
   },
   "source": [
    "# Import necessary dependencies"
   ]
  },
  {
   "cell_type": "code",
   "execution_count": 0,
   "metadata": {
    "colab": {},
    "colab_type": "code",
    "id": "L7hMwxfrZ6yp"
   },
   "outputs": [],
   "source": [
    "import keras\n",
    "from keras import applications\n",
    "from keras.datasets import cifar10\n",
    "from keras.models import Sequential\n",
    "from keras.layers import Dense, Flatten, Dropout\n",
    "\n",
    "import matplotlib.pyplot as plt\n",
    "\n",
    "import numpy as np"
   ]
  },
  {
   "cell_type": "markdown",
   "metadata": {
    "colab_type": "text",
    "id": "nTnJsRLRZ6yu"
   },
   "source": [
    "# Parameters"
   ]
  },
  {
   "cell_type": "code",
   "execution_count": 0,
   "metadata": {
    "colab": {},
    "colab_type": "code",
    "id": "ZEcmBFHHZ6yv"
   },
   "outputs": [],
   "source": [
    "batch_size = 128\n",
    "n_classes = 10\n",
    "epochs = 50"
   ]
  },
  {
   "cell_type": "markdown",
   "metadata": {
    "colab_type": "text",
    "id": "SKBq2ScWZ6y0"
   },
   "source": [
    "# Load the pre-trained model"
   ]
  },
  {
   "cell_type": "code",
   "execution_count": 0,
   "metadata": {
    "colab": {},
    "colab_type": "code",
    "id": "d0wLnE1rZ6y1"
   },
   "outputs": [],
   "source": [
    "vgg_model = applications.VGG19(include_top=False)"
   ]
  },
  {
   "cell_type": "markdown",
   "metadata": {
    "colab_type": "text",
    "id": "plR36y1NZ6y8"
   },
   "source": [
    "## Model's architecture"
   ]
  },
  {
   "cell_type": "code",
   "execution_count": 6,
   "metadata": {
    "colab": {
     "base_uri": "https://localhost:8080/",
     "height": 884
    },
    "colab_type": "code",
    "id": "azwdov5IZ6y-",
    "outputId": "a8b318f3-3c3a-4110-ac5f-2688ff180c7f"
   },
   "outputs": [
    {
     "name": "stdout",
     "output_type": "stream",
     "text": [
      "_________________________________________________________________\n",
      "Layer (type)                 Output Shape              Param #   \n",
      "=================================================================\n",
      "input_1 (InputLayer)         (None, None, None, 3)     0         \n",
      "_________________________________________________________________\n",
      "block1_conv1 (Conv2D)        (None, None, None, 64)    1792      \n",
      "_________________________________________________________________\n",
      "block1_conv2 (Conv2D)        (None, None, None, 64)    36928     \n",
      "_________________________________________________________________\n",
      "block1_pool (MaxPooling2D)   (None, None, None, 64)    0         \n",
      "_________________________________________________________________\n",
      "block2_conv1 (Conv2D)        (None, None, None, 128)   73856     \n",
      "_________________________________________________________________\n",
      "block2_conv2 (Conv2D)        (None, None, None, 128)   147584    \n",
      "_________________________________________________________________\n",
      "block2_pool (MaxPooling2D)   (None, None, None, 128)   0         \n",
      "_________________________________________________________________\n",
      "block3_conv1 (Conv2D)        (None, None, None, 256)   295168    \n",
      "_________________________________________________________________\n",
      "block3_conv2 (Conv2D)        (None, None, None, 256)   590080    \n",
      "_________________________________________________________________\n",
      "block3_conv3 (Conv2D)        (None, None, None, 256)   590080    \n",
      "_________________________________________________________________\n",
      "block3_conv4 (Conv2D)        (None, None, None, 256)   590080    \n",
      "_________________________________________________________________\n",
      "block3_pool (MaxPooling2D)   (None, None, None, 256)   0         \n",
      "_________________________________________________________________\n",
      "block4_conv1 (Conv2D)        (None, None, None, 512)   1180160   \n",
      "_________________________________________________________________\n",
      "block4_conv2 (Conv2D)        (None, None, None, 512)   2359808   \n",
      "_________________________________________________________________\n",
      "block4_conv3 (Conv2D)        (None, None, None, 512)   2359808   \n",
      "_________________________________________________________________\n",
      "block4_conv4 (Conv2D)        (None, None, None, 512)   2359808   \n",
      "_________________________________________________________________\n",
      "block4_pool (MaxPooling2D)   (None, None, None, 512)   0         \n",
      "_________________________________________________________________\n",
      "block5_conv1 (Conv2D)        (None, None, None, 512)   2359808   \n",
      "_________________________________________________________________\n",
      "block5_conv2 (Conv2D)        (None, None, None, 512)   2359808   \n",
      "_________________________________________________________________\n",
      "block5_conv3 (Conv2D)        (None, None, None, 512)   2359808   \n",
      "_________________________________________________________________\n",
      "block5_conv4 (Conv2D)        (None, None, None, 512)   2359808   \n",
      "_________________________________________________________________\n",
      "block5_pool (MaxPooling2D)   (None, None, None, 512)   0         \n",
      "=================================================================\n",
      "Total params: 20,024,384\n",
      "Trainable params: 20,024,384\n",
      "Non-trainable params: 0\n",
      "_________________________________________________________________\n"
     ]
    }
   ],
   "source": [
    "vgg_model.summary()"
   ]
  },
  {
   "cell_type": "markdown",
   "metadata": {
    "colab_type": "text",
    "id": "eumBS8DhZ6zA"
   },
   "source": [
    "# Load the dataset"
   ]
  },
  {
   "cell_type": "code",
   "execution_count": 0,
   "metadata": {
    "colab": {},
    "colab_type": "code",
    "id": "GjK12pTlZ6zC"
   },
   "outputs": [],
   "source": [
    "(X_train, y_train), (X_test, y_test) = cifar10.load_data()"
   ]
  },
  {
   "cell_type": "markdown",
   "metadata": {
    "colab_type": "text",
    "id": "M29Fef3zZ6zH"
   },
   "source": [
    "## One hot encode the labels"
   ]
  },
  {
   "cell_type": "code",
   "execution_count": 0,
   "metadata": {
    "colab": {},
    "colab_type": "code",
    "id": "w0Mj9EWYZ6zJ"
   },
   "outputs": [],
   "source": [
    "y_train = keras.utils.to_categorical(y_train,num_classes=n_classes)\n",
    "y_test = keras.utils.to_categorical(y_test,num_classes=n_classes)"
   ]
  },
  {
   "cell_type": "markdown",
   "metadata": {
    "colab_type": "text",
    "id": "e0PXyLP5Z6zN"
   },
   "source": [
    "# Inputs for FC layers"
   ]
  },
  {
   "cell_type": "code",
   "execution_count": 9,
   "metadata": {
    "colab": {
     "base_uri": "https://localhost:8080/",
     "height": 51
    },
    "colab_type": "code",
    "id": "gStHXRyNZ6zP",
    "outputId": "fb1dcecf-16fb-4919-ba5f-16d81ce853c4"
   },
   "outputs": [
    {
     "name": "stdout",
     "output_type": "stream",
     "text": [
      "50000/50000 [==============================] - 34s 679us/step\n",
      "10000/10000 [==============================] - 7s 663us/step\n"
     ]
    }
   ],
   "source": [
    "bottleneck_features_train = vgg_model.predict(X_train,verbose=1)\n",
    "bottleneck_features_test = vgg_model.predict(X_test,verbose=1)"
   ]
  },
  {
   "cell_type": "code",
   "execution_count": 10,
   "metadata": {
    "colab": {
     "base_uri": "https://localhost:8080/",
     "height": 34
    },
    "colab_type": "code",
    "id": "2RW91vrxZ6zR",
    "outputId": "035c497a-813e-4879-d974-9a7c0d5c1640"
   },
   "outputs": [
    {
     "data": {
      "text/plain": [
       "(50000, 1, 1, 512)"
      ]
     },
     "execution_count": 10,
     "metadata": {
      "tags": []
     },
     "output_type": "execute_result"
    }
   ],
   "source": [
    "bottleneck_features_train.shape"
   ]
  },
  {
   "cell_type": "markdown",
   "metadata": {
    "colab_type": "text",
    "id": "s6YaFCbHZ6zY"
   },
   "source": [
    "## Custom Classifier"
   ]
  },
  {
   "cell_type": "code",
   "execution_count": 0,
   "metadata": {
    "colab": {},
    "colab_type": "code",
    "id": "0GsUZwXcZ6zZ"
   },
   "outputs": [],
   "source": [
    "clf_model = Sequential()\n",
    "clf_model.add(Flatten(input_shape=bottleneck_features_train.shape[1:]))\n",
    "clf_model.add(Dense(512, activation='relu'))\n",
    "clf_model.add(Dropout(0.5))\n",
    "clf_model.add(Dense(256, activation='relu'))\n",
    "clf_model.add(Dropout(0.5))\n",
    "clf_model.add(Dense(n_classes, activation='softmax'))"
   ]
  },
  {
   "cell_type": "markdown",
   "metadata": {
    "colab_type": "text",
    "id": "Er5c5nfYZ6zf"
   },
   "source": [
    "## Visualize the network architecture"
   ]
  },
  {
   "cell_type": "code",
   "execution_count": 12,
   "metadata": {
    "colab": {
     "base_uri": "https://localhost:8080/",
     "height": 758
    },
    "colab_type": "code",
    "id": "IIQTLowHZ6zg",
    "outputId": "f2416782-dcc9-4da9-dd4b-7070972520a6"
   },
   "outputs": [
    {
     "data": {
      "image/svg+xml": [
       "<svg height=\"553pt\" viewBox=\"0.00 0.00 428.00 553.00\" width=\"428pt\" xmlns=\"http://www.w3.org/2000/svg\" xmlns:xlink=\"http://www.w3.org/1999/xlink\">\n",
       "<g class=\"graph\" id=\"graph0\" transform=\"scale(1 1) rotate(0) translate(4 549)\">\n",
       "<title>G</title>\n",
       "<polygon fill=\"white\" points=\"-4,4 -4,-549 424,-549 424,4 -4,4\" stroke=\"none\"/>\n",
       "<!-- 139716903616976 -->\n",
       "<g class=\"node\" id=\"node1\"><title>139716903616976</title>\n",
       "<polygon fill=\"none\" points=\"0,-498.5 0,-544.5 420,-544.5 420,-498.5 0,-498.5\" stroke=\"black\"/>\n",
       "<text font-family=\"Times,serif\" font-size=\"14.00\" text-anchor=\"middle\" x=\"107.5\" y=\"-517.8\">flatten_1_input: InputLayer</text>\n",
       "<polyline fill=\"none\" points=\"215,-498.5 215,-544.5 \" stroke=\"black\"/>\n",
       "<text font-family=\"Times,serif\" font-size=\"14.00\" text-anchor=\"middle\" x=\"249\" y=\"-529.3\">input:</text>\n",
       "<polyline fill=\"none\" points=\"215,-521.5 283,-521.5 \" stroke=\"black\"/>\n",
       "<text font-family=\"Times,serif\" font-size=\"14.00\" text-anchor=\"middle\" x=\"249\" y=\"-506.3\">output:</text>\n",
       "<polyline fill=\"none\" points=\"283,-498.5 283,-544.5 \" stroke=\"black\"/>\n",
       "<text font-family=\"Times,serif\" font-size=\"14.00\" text-anchor=\"middle\" x=\"351.5\" y=\"-529.3\">(None, 1, 1, 512)</text>\n",
       "<polyline fill=\"none\" points=\"283,-521.5 420,-521.5 \" stroke=\"black\"/>\n",
       "<text font-family=\"Times,serif\" font-size=\"14.00\" text-anchor=\"middle\" x=\"351.5\" y=\"-506.3\">(None, 1, 1, 512)</text>\n",
       "</g>\n",
       "<!-- 139716903618880 -->\n",
       "<g class=\"node\" id=\"node2\"><title>139716903618880</title>\n",
       "<polygon fill=\"none\" points=\"37,-415.5 37,-461.5 383,-461.5 383,-415.5 37,-415.5\" stroke=\"black\"/>\n",
       "<text font-family=\"Times,serif\" font-size=\"14.00\" text-anchor=\"middle\" x=\"107.5\" y=\"-434.8\">flatten_1: Flatten</text>\n",
       "<polyline fill=\"none\" points=\"178,-415.5 178,-461.5 \" stroke=\"black\"/>\n",
       "<text font-family=\"Times,serif\" font-size=\"14.00\" text-anchor=\"middle\" x=\"212\" y=\"-446.3\">input:</text>\n",
       "<polyline fill=\"none\" points=\"178,-438.5 246,-438.5 \" stroke=\"black\"/>\n",
       "<text font-family=\"Times,serif\" font-size=\"14.00\" text-anchor=\"middle\" x=\"212\" y=\"-423.3\">output:</text>\n",
       "<polyline fill=\"none\" points=\"246,-415.5 246,-461.5 \" stroke=\"black\"/>\n",
       "<text font-family=\"Times,serif\" font-size=\"14.00\" text-anchor=\"middle\" x=\"314.5\" y=\"-446.3\">(None, 1, 1, 512)</text>\n",
       "<polyline fill=\"none\" points=\"246,-438.5 383,-438.5 \" stroke=\"black\"/>\n",
       "<text font-family=\"Times,serif\" font-size=\"14.00\" text-anchor=\"middle\" x=\"314.5\" y=\"-423.3\">(None, 512)</text>\n",
       "</g>\n",
       "<!-- 139716903616976&#45;&gt;139716903618880 -->\n",
       "<g class=\"edge\" id=\"edge1\"><title>139716903616976-&gt;139716903618880</title>\n",
       "<path d=\"M210,-498.366C210,-490.152 210,-480.658 210,-471.725\" fill=\"none\" stroke=\"black\"/>\n",
       "<polygon fill=\"black\" points=\"213.5,-471.607 210,-461.607 206.5,-471.607 213.5,-471.607\" stroke=\"black\"/>\n",
       "</g>\n",
       "<!-- 139716903618992 -->\n",
       "<g class=\"node\" id=\"node3\"><title>139716903618992</title>\n",
       "<polygon fill=\"none\" points=\"61.5,-332.5 61.5,-378.5 358.5,-378.5 358.5,-332.5 61.5,-332.5\" stroke=\"black\"/>\n",
       "<text font-family=\"Times,serif\" font-size=\"14.00\" text-anchor=\"middle\" x=\"125.5\" y=\"-351.8\">dense_1: Dense</text>\n",
       "<polyline fill=\"none\" points=\"189.5,-332.5 189.5,-378.5 \" stroke=\"black\"/>\n",
       "<text font-family=\"Times,serif\" font-size=\"14.00\" text-anchor=\"middle\" x=\"223.5\" y=\"-363.3\">input:</text>\n",
       "<polyline fill=\"none\" points=\"189.5,-355.5 257.5,-355.5 \" stroke=\"black\"/>\n",
       "<text font-family=\"Times,serif\" font-size=\"14.00\" text-anchor=\"middle\" x=\"223.5\" y=\"-340.3\">output:</text>\n",
       "<polyline fill=\"none\" points=\"257.5,-332.5 257.5,-378.5 \" stroke=\"black\"/>\n",
       "<text font-family=\"Times,serif\" font-size=\"14.00\" text-anchor=\"middle\" x=\"308\" y=\"-363.3\">(None, 512)</text>\n",
       "<polyline fill=\"none\" points=\"257.5,-355.5 358.5,-355.5 \" stroke=\"black\"/>\n",
       "<text font-family=\"Times,serif\" font-size=\"14.00\" text-anchor=\"middle\" x=\"308\" y=\"-340.3\">(None, 512)</text>\n",
       "</g>\n",
       "<!-- 139716903618880&#45;&gt;139716903618992 -->\n",
       "<g class=\"edge\" id=\"edge2\"><title>139716903618880-&gt;139716903618992</title>\n",
       "<path d=\"M210,-415.366C210,-407.152 210,-397.658 210,-388.725\" fill=\"none\" stroke=\"black\"/>\n",
       "<polygon fill=\"black\" points=\"213.5,-388.607 210,-378.607 206.5,-388.607 213.5,-388.607\" stroke=\"black\"/>\n",
       "</g>\n",
       "<!-- 139715729254104 -->\n",
       "<g class=\"node\" id=\"node4\"><title>139715729254104</title>\n",
       "<polygon fill=\"none\" points=\"47,-249.5 47,-295.5 373,-295.5 373,-249.5 47,-249.5\" stroke=\"black\"/>\n",
       "<text font-family=\"Times,serif\" font-size=\"14.00\" text-anchor=\"middle\" x=\"125.5\" y=\"-268.8\">dropout_1: Dropout</text>\n",
       "<polyline fill=\"none\" points=\"204,-249.5 204,-295.5 \" stroke=\"black\"/>\n",
       "<text font-family=\"Times,serif\" font-size=\"14.00\" text-anchor=\"middle\" x=\"238\" y=\"-280.3\">input:</text>\n",
       "<polyline fill=\"none\" points=\"204,-272.5 272,-272.5 \" stroke=\"black\"/>\n",
       "<text font-family=\"Times,serif\" font-size=\"14.00\" text-anchor=\"middle\" x=\"238\" y=\"-257.3\">output:</text>\n",
       "<polyline fill=\"none\" points=\"272,-249.5 272,-295.5 \" stroke=\"black\"/>\n",
       "<text font-family=\"Times,serif\" font-size=\"14.00\" text-anchor=\"middle\" x=\"322.5\" y=\"-280.3\">(None, 512)</text>\n",
       "<polyline fill=\"none\" points=\"272,-272.5 373,-272.5 \" stroke=\"black\"/>\n",
       "<text font-family=\"Times,serif\" font-size=\"14.00\" text-anchor=\"middle\" x=\"322.5\" y=\"-257.3\">(None, 512)</text>\n",
       "</g>\n",
       "<!-- 139716903618992&#45;&gt;139715729254104 -->\n",
       "<g class=\"edge\" id=\"edge3\"><title>139716903618992-&gt;139715729254104</title>\n",
       "<path d=\"M210,-332.366C210,-324.152 210,-314.658 210,-305.725\" fill=\"none\" stroke=\"black\"/>\n",
       "<polygon fill=\"black\" points=\"213.5,-305.607 210,-295.607 206.5,-305.607 213.5,-305.607\" stroke=\"black\"/>\n",
       "</g>\n",
       "<!-- 139714913257456 -->\n",
       "<g class=\"node\" id=\"node5\"><title>139714913257456</title>\n",
       "<polygon fill=\"none\" points=\"61.5,-166.5 61.5,-212.5 358.5,-212.5 358.5,-166.5 61.5,-166.5\" stroke=\"black\"/>\n",
       "<text font-family=\"Times,serif\" font-size=\"14.00\" text-anchor=\"middle\" x=\"125.5\" y=\"-185.8\">dense_2: Dense</text>\n",
       "<polyline fill=\"none\" points=\"189.5,-166.5 189.5,-212.5 \" stroke=\"black\"/>\n",
       "<text font-family=\"Times,serif\" font-size=\"14.00\" text-anchor=\"middle\" x=\"223.5\" y=\"-197.3\">input:</text>\n",
       "<polyline fill=\"none\" points=\"189.5,-189.5 257.5,-189.5 \" stroke=\"black\"/>\n",
       "<text font-family=\"Times,serif\" font-size=\"14.00\" text-anchor=\"middle\" x=\"223.5\" y=\"-174.3\">output:</text>\n",
       "<polyline fill=\"none\" points=\"257.5,-166.5 257.5,-212.5 \" stroke=\"black\"/>\n",
       "<text font-family=\"Times,serif\" font-size=\"14.00\" text-anchor=\"middle\" x=\"308\" y=\"-197.3\">(None, 512)</text>\n",
       "<polyline fill=\"none\" points=\"257.5,-189.5 358.5,-189.5 \" stroke=\"black\"/>\n",
       "<text font-family=\"Times,serif\" font-size=\"14.00\" text-anchor=\"middle\" x=\"308\" y=\"-174.3\">(None, 256)</text>\n",
       "</g>\n",
       "<!-- 139715729254104&#45;&gt;139714913257456 -->\n",
       "<g class=\"edge\" id=\"edge4\"><title>139715729254104-&gt;139714913257456</title>\n",
       "<path d=\"M210,-249.366C210,-241.152 210,-231.658 210,-222.725\" fill=\"none\" stroke=\"black\"/>\n",
       "<polygon fill=\"black\" points=\"213.5,-222.607 210,-212.607 206.5,-222.607 213.5,-222.607\" stroke=\"black\"/>\n",
       "</g>\n",
       "<!-- 139714913257792 -->\n",
       "<g class=\"node\" id=\"node6\"><title>139714913257792</title>\n",
       "<polygon fill=\"none\" points=\"47,-83.5 47,-129.5 373,-129.5 373,-83.5 47,-83.5\" stroke=\"black\"/>\n",
       "<text font-family=\"Times,serif\" font-size=\"14.00\" text-anchor=\"middle\" x=\"125.5\" y=\"-102.8\">dropout_2: Dropout</text>\n",
       "<polyline fill=\"none\" points=\"204,-83.5 204,-129.5 \" stroke=\"black\"/>\n",
       "<text font-family=\"Times,serif\" font-size=\"14.00\" text-anchor=\"middle\" x=\"238\" y=\"-114.3\">input:</text>\n",
       "<polyline fill=\"none\" points=\"204,-106.5 272,-106.5 \" stroke=\"black\"/>\n",
       "<text font-family=\"Times,serif\" font-size=\"14.00\" text-anchor=\"middle\" x=\"238\" y=\"-91.3\">output:</text>\n",
       "<polyline fill=\"none\" points=\"272,-83.5 272,-129.5 \" stroke=\"black\"/>\n",
       "<text font-family=\"Times,serif\" font-size=\"14.00\" text-anchor=\"middle\" x=\"322.5\" y=\"-114.3\">(None, 256)</text>\n",
       "<polyline fill=\"none\" points=\"272,-106.5 373,-106.5 \" stroke=\"black\"/>\n",
       "<text font-family=\"Times,serif\" font-size=\"14.00\" text-anchor=\"middle\" x=\"322.5\" y=\"-91.3\">(None, 256)</text>\n",
       "</g>\n",
       "<!-- 139714913257456&#45;&gt;139714913257792 -->\n",
       "<g class=\"edge\" id=\"edge5\"><title>139714913257456-&gt;139714913257792</title>\n",
       "<path d=\"M210,-166.366C210,-158.152 210,-148.658 210,-139.725\" fill=\"none\" stroke=\"black\"/>\n",
       "<polygon fill=\"black\" points=\"213.5,-139.607 210,-129.607 206.5,-139.607 213.5,-139.607\" stroke=\"black\"/>\n",
       "</g>\n",
       "<!-- 139714913449352 -->\n",
       "<g class=\"node\" id=\"node7\"><title>139714913449352</title>\n",
       "<polygon fill=\"none\" points=\"61.5,-0.5 61.5,-46.5 358.5,-46.5 358.5,-0.5 61.5,-0.5\" stroke=\"black\"/>\n",
       "<text font-family=\"Times,serif\" font-size=\"14.00\" text-anchor=\"middle\" x=\"125.5\" y=\"-19.8\">dense_3: Dense</text>\n",
       "<polyline fill=\"none\" points=\"189.5,-0.5 189.5,-46.5 \" stroke=\"black\"/>\n",
       "<text font-family=\"Times,serif\" font-size=\"14.00\" text-anchor=\"middle\" x=\"223.5\" y=\"-31.3\">input:</text>\n",
       "<polyline fill=\"none\" points=\"189.5,-23.5 257.5,-23.5 \" stroke=\"black\"/>\n",
       "<text font-family=\"Times,serif\" font-size=\"14.00\" text-anchor=\"middle\" x=\"223.5\" y=\"-8.3\">output:</text>\n",
       "<polyline fill=\"none\" points=\"257.5,-0.5 257.5,-46.5 \" stroke=\"black\"/>\n",
       "<text font-family=\"Times,serif\" font-size=\"14.00\" text-anchor=\"middle\" x=\"308\" y=\"-31.3\">(None, 256)</text>\n",
       "<polyline fill=\"none\" points=\"257.5,-23.5 358.5,-23.5 \" stroke=\"black\"/>\n",
       "<text font-family=\"Times,serif\" font-size=\"14.00\" text-anchor=\"middle\" x=\"308\" y=\"-8.3\">(None, 10)</text>\n",
       "</g>\n",
       "<!-- 139714913257792&#45;&gt;139714913449352 -->\n",
       "<g class=\"edge\" id=\"edge6\"><title>139714913257792-&gt;139714913449352</title>\n",
       "<path d=\"M210,-83.3664C210,-75.1516 210,-65.6579 210,-56.7252\" fill=\"none\" stroke=\"black\"/>\n",
       "<polygon fill=\"black\" points=\"213.5,-56.6068 210,-46.6068 206.5,-56.6069 213.5,-56.6068\" stroke=\"black\"/>\n",
       "</g>\n",
       "</g>\n",
       "</svg>"
      ],
      "text/plain": [
       "<IPython.core.display.SVG object>"
      ]
     },
     "execution_count": 12,
     "metadata": {
      "tags": []
     },
     "output_type": "execute_result"
    }
   ],
   "source": [
    "from IPython.display import SVG\n",
    "from keras.utils.vis_utils import model_to_dot\n",
    "\n",
    "SVG(model_to_dot(clf_model, show_shapes=True, \n",
    "                 show_layer_names=True, rankdir='TB').create(prog='dot', format='svg'))"
   ]
  },
  {
   "cell_type": "markdown",
   "metadata": {
    "colab_type": "text",
    "id": "Mq315vuEZ6zk"
   },
   "source": [
    "##  Compile the model"
   ]
  },
  {
   "cell_type": "code",
   "execution_count": 0,
   "metadata": {
    "colab": {},
    "colab_type": "code",
    "id": "fehjvcvgZ6zm"
   },
   "outputs": [],
   "source": [
    "clf_model.compile(loss=keras.losses.categorical_crossentropy,\n",
    "              optimizer=keras.optimizers.Adadelta(),\n",
    "              metrics=['accuracy'])"
   ]
  },
  {
   "cell_type": "markdown",
   "metadata": {
    "colab_type": "text",
    "id": "4ZgJqC1MZ6zr"
   },
   "source": [
    "## Train the classifier"
   ]
  },
  {
   "cell_type": "code",
   "execution_count": 14,
   "metadata": {
    "colab": {
     "base_uri": "https://localhost:8080/",
     "height": 1734
    },
    "colab_type": "code",
    "id": "nTnFushOZ6zs",
    "outputId": "fbbfccc7-566d-40e8-964d-e06e06e30891"
   },
   "outputs": [
    {
     "name": "stdout",
     "output_type": "stream",
     "text": [
      "Epoch 1/50\n",
      "50000/50000 [==============================] - 3s 68us/step - loss: 4.9752 - acc: 0.2879\n",
      "Epoch 2/50\n",
      "50000/50000 [==============================] - 3s 58us/step - loss: 1.8199 - acc: 0.3738\n",
      "Epoch 3/50\n",
      "50000/50000 [==============================] - 3s 59us/step - loss: 1.6324 - acc: 0.4410\n",
      "Epoch 4/50\n",
      "50000/50000 [==============================] - 3s 58us/step - loss: 1.5309 - acc: 0.4775\n",
      "Epoch 5/50\n",
      "50000/50000 [==============================] - 3s 58us/step - loss: 1.4692 - acc: 0.4972\n",
      "Epoch 6/50\n",
      "50000/50000 [==============================] - 3s 59us/step - loss: 1.4215 - acc: 0.5197\n",
      "Epoch 7/50\n",
      "50000/50000 [==============================] - 3s 58us/step - loss: 1.3798 - acc: 0.5337\n",
      "Epoch 8/50\n",
      "50000/50000 [==============================] - 3s 58us/step - loss: 1.3498 - acc: 0.5483\n",
      "Epoch 9/50\n",
      "50000/50000 [==============================] - 3s 59us/step - loss: 1.3171 - acc: 0.5563\n",
      "Epoch 10/50\n",
      "50000/50000 [==============================] - 3s 59us/step - loss: 1.2978 - acc: 0.5675\n",
      "Epoch 11/50\n",
      "50000/50000 [==============================] - 3s 58us/step - loss: 1.2730 - acc: 0.5737\n",
      "Epoch 12/50\n",
      "50000/50000 [==============================] - 3s 59us/step - loss: 1.2515 - acc: 0.5771\n",
      "Epoch 13/50\n",
      "50000/50000 [==============================] - 3s 59us/step - loss: 1.2421 - acc: 0.5874\n",
      "Epoch 14/50\n",
      "50000/50000 [==============================] - 3s 59us/step - loss: 1.2191 - acc: 0.5918\n",
      "Epoch 15/50\n",
      "50000/50000 [==============================] - 3s 59us/step - loss: 1.2051 - acc: 0.5976\n",
      "Epoch 16/50\n",
      "50000/50000 [==============================] - 3s 58us/step - loss: 1.1875 - acc: 0.6032\n",
      "Epoch 17/50\n",
      "50000/50000 [==============================] - 3s 58us/step - loss: 1.1695 - acc: 0.6089\n",
      "Epoch 18/50\n",
      "50000/50000 [==============================] - 3s 59us/step - loss: 1.1613 - acc: 0.6156\n",
      "Epoch 19/50\n",
      "50000/50000 [==============================] - 3s 58us/step - loss: 1.1459 - acc: 0.6177\n",
      "Epoch 20/50\n",
      "50000/50000 [==============================] - 3s 58us/step - loss: 1.1277 - acc: 0.6210\n",
      "Epoch 21/50\n",
      "50000/50000 [==============================] - 3s 59us/step - loss: 1.1151 - acc: 0.6262\n",
      "Epoch 22/50\n",
      "50000/50000 [==============================] - 3s 59us/step - loss: 1.1080 - acc: 0.6311\n",
      "Epoch 23/50\n",
      "50000/50000 [==============================] - 3s 58us/step - loss: 1.0995 - acc: 0.6360\n",
      "Epoch 24/50\n",
      "50000/50000 [==============================] - 3s 59us/step - loss: 1.0875 - acc: 0.6357\n",
      "Epoch 25/50\n",
      "50000/50000 [==============================] - 3s 59us/step - loss: 1.0758 - acc: 0.6402\n",
      "Epoch 26/50\n",
      "50000/50000 [==============================] - 3s 58us/step - loss: 1.0644 - acc: 0.6444\n",
      "Epoch 27/50\n",
      "50000/50000 [==============================] - 3s 59us/step - loss: 1.0570 - acc: 0.6474\n",
      "Epoch 28/50\n",
      "50000/50000 [==============================] - 3s 58us/step - loss: 1.0440 - acc: 0.6519\n",
      "Epoch 29/50\n",
      "50000/50000 [==============================] - 3s 59us/step - loss: 1.0354 - acc: 0.6568\n",
      "Epoch 30/50\n",
      "50000/50000 [==============================] - 3s 59us/step - loss: 1.0261 - acc: 0.6588\n",
      "Epoch 31/50\n",
      "50000/50000 [==============================] - 3s 58us/step - loss: 1.0161 - acc: 0.6622\n",
      "Epoch 32/50\n",
      "50000/50000 [==============================] - 3s 58us/step - loss: 1.0137 - acc: 0.6617\n",
      "Epoch 33/50\n",
      "50000/50000 [==============================] - 3s 59us/step - loss: 1.0032 - acc: 0.6667\n",
      "Epoch 34/50\n",
      "50000/50000 [==============================] - 3s 58us/step - loss: 0.9979 - acc: 0.6685\n",
      "Epoch 35/50\n",
      "50000/50000 [==============================] - 3s 59us/step - loss: 0.9852 - acc: 0.6722\n",
      "Epoch 36/50\n",
      "50000/50000 [==============================] - 3s 58us/step - loss: 0.9756 - acc: 0.6749\n",
      "Epoch 37/50\n",
      "50000/50000 [==============================] - 3s 58us/step - loss: 0.9746 - acc: 0.6778\n",
      "Epoch 38/50\n",
      "50000/50000 [==============================] - 3s 58us/step - loss: 0.9674 - acc: 0.6793\n",
      "Epoch 39/50\n",
      "50000/50000 [==============================] - 3s 58us/step - loss: 0.9577 - acc: 0.6804\n",
      "Epoch 40/50\n",
      "50000/50000 [==============================] - 3s 59us/step - loss: 0.9544 - acc: 0.6857\n",
      "Epoch 41/50\n",
      "50000/50000 [==============================] - 3s 58us/step - loss: 0.9411 - acc: 0.6877\n",
      "Epoch 42/50\n",
      "50000/50000 [==============================] - 3s 57us/step - loss: 0.9472 - acc: 0.6860\n",
      "Epoch 43/50\n",
      "50000/50000 [==============================] - 3s 58us/step - loss: 0.9316 - acc: 0.6885\n",
      "Epoch 44/50\n",
      "50000/50000 [==============================] - 3s 58us/step - loss: 0.9284 - acc: 0.6941\n",
      "Epoch 45/50\n",
      "50000/50000 [==============================] - 3s 58us/step - loss: 0.9214 - acc: 0.6953\n",
      "Epoch 46/50\n",
      "50000/50000 [==============================] - 3s 58us/step - loss: 0.9144 - acc: 0.6980\n",
      "Epoch 47/50\n",
      "50000/50000 [==============================] - 3s 59us/step - loss: 0.9072 - acc: 0.7003\n",
      "Epoch 48/50\n",
      "50000/50000 [==============================] - 3s 58us/step - loss: 0.8987 - acc: 0.7022\n",
      "Epoch 49/50\n",
      "50000/50000 [==============================] - 3s 58us/step - loss: 0.8911 - acc: 0.7048\n",
      "Epoch 50/50\n",
      "50000/50000 [==============================] - 3s 59us/step - loss: 0.8960 - acc: 0.7044\n"
     ]
    },
    {
     "data": {
      "text/plain": [
       "<keras.callbacks.History at 0x7f11dbe55f28>"
      ]
     },
     "execution_count": 14,
     "metadata": {
      "tags": []
     },
     "output_type": "execute_result"
    }
   ],
   "source": [
    "clf_model.fit(bottleneck_features_train, y_train,\n",
    "          batch_size=batch_size,\n",
    "          epochs=epochs,\n",
    "          verbose=1)"
   ]
  },
  {
   "cell_type": "markdown",
   "metadata": {
    "colab_type": "text",
    "id": "vNAkhriXZ6zw"
   },
   "source": [
    "## Predict and test model performance"
   ]
  },
  {
   "cell_type": "code",
   "execution_count": 24,
   "metadata": {
    "colab": {
     "base_uri": "https://localhost:8080/",
     "height": 34
    },
    "colab_type": "code",
    "id": "LuidOH37Z6zx",
    "outputId": "eb55b1fd-7bfe-4aad-eb83-741935154563"
   },
   "outputs": [
    {
     "name": "stdout",
     "output_type": "stream",
     "text": [
      "10000/10000 [==============================] - 1s 79us/step\n"
     ]
    }
   ],
   "source": [
    "score = clf_model.evaluate(bottleneck_features_test, y_test, verbose=1)"
   ]
  },
  {
   "cell_type": "code",
   "execution_count": 25,
   "metadata": {
    "colab": {
     "base_uri": "https://localhost:8080/",
     "height": 51
    },
    "colab_type": "code",
    "id": "cWagoL-mZ6z1",
    "outputId": "178a85a4-7543-4172-cc35-77bc488dd32d"
   },
   "outputs": [
    {
     "name": "stdout",
     "output_type": "stream",
     "text": [
      "Test loss: 1.357849464416504\n",
      "Test accuracy: 0.6318\n"
     ]
    }
   ],
   "source": [
    "print('Test loss:', score[0])\n",
    "print('Test accuracy:', score[1])"
   ]
  },
  {
   "cell_type": "markdown",
   "metadata": {
    "colab_type": "text",
    "id": "MnvHSm6bMtV1"
   },
   "source": [
    "# Assign label to a test image"
   ]
  },
  {
   "cell_type": "code",
   "execution_count": 0,
   "metadata": {
    "colab": {},
    "colab_type": "code",
    "id": "FnZoPz5ZMvRE"
   },
   "outputs": [],
   "source": [
    "def predict_label(img_idx,show_proba=True):\n",
    "    plt.imshow(X_test[img_idx],aspect='auto')\n",
    "    plt.title(\"Image to be Labeled\")\n",
    "    plt.show()\n",
    "    \n",
    "    print(\"Actual Class:{}\".format(np.nonzero(y_test[img_idx])[0][0]))\n",
    "    \n",
    "    test_image =np.expand_dims(X_test[img_idx], axis=0)\n",
    "    bf = vgg_model.predict(test_image,verbose=0)\n",
    "    pred_label = clf_model.predict_classes(bf,batch_size=1,verbose=0)\n",
    "    \n",
    "    print(\"Predicted Class:{}\".format(pred_label[0]))\n",
    "    if show_proba:\n",
    "        print(\"Predicted Probabilities\")\n",
    "        print(clf_model.predict_proba(bf))"
   ]
  },
  {
   "cell_type": "code",
   "execution_count": 23,
   "metadata": {
    "colab": {
     "base_uri": "https://localhost:8080/",
     "height": 1307
    },
    "colab_type": "code",
    "id": "Bvn-GfM1M09V",
    "outputId": "38b32b1a-2805-4cb4-eb68-a7796f3ff8e9"
   },
   "outputs": [
    {
     "data": {
      "image/png": "[encoded data removed]",
      "text/plain": [
       "<matplotlib.figure.Figure at 0x7f11dbeec0f0>"
      ]
     },
     "metadata": {
      "tags": []
     },
     "output_type": "display_data"
    },
    {
     "name": "stdout",
     "output_type": "stream",
     "text": [
      "Actual Class:8\n",
      "Predicted Class:8\n",
      "Predicted Probabilities\n",
      "[[4.6128607e-03 2.4777209e-02 2.3347949e-12 2.5561111e-08 3.3493930e-12\n",
      "  4.2109911e-14 4.9479413e-15 4.5944134e-14 8.8894284e-01 8.1667036e-02]]\n"
     ]
    },
    {
     "data": {
      "image/png": "[encoded data removed]",
      "text/plain": [
       "<matplotlib.figure.Figure at 0x7f11d39a3d30>"
      ]
     },
     "metadata": {
      "tags": []
     },
     "output_type": "display_data"
    },
    {
     "name": "stdout",
     "output_type": "stream",
     "text": [
      "Actual Class:5\n",
      "Predicted Class:5\n",
      "Predicted Probabilities\n",
      "[[1.4527365e-15 2.6628708e-10 9.8462918e-09 3.8319483e-01 1.1531362e-13\n",
      "  6.1676973e-01 3.5407767e-05 3.3473573e-12 1.4404810e-14 8.1141122e-11]]\n"
     ]
    },
    {
     "data": {
      "image/png": "[encoded data removed]",
      "text/plain": [
       "<matplotlib.figure.Figure at 0x7f11d395fc18>"
      ]
     },
     "metadata": {
      "tags": []
     },
     "output_type": "display_data"
    },
    {
     "name": "stdout",
     "output_type": "stream",
     "text": [
      "Actual Class:9\n",
      "Predicted Class:9\n",
      "Predicted Probabilities\n",
      "[[2.1847149e-02 4.0433072e-02 9.1657901e-05 7.2440812e-03 1.2047797e-03\n",
      "  5.9194624e-04 7.8616240e-06 2.5597878e-03 1.0707120e-02 9.1531253e-01]]\n"
     ]
    }
   ],
   "source": [
    "for img_idx in [999,1999,3999]:\n",
    "    predict_label(img_idx)"
   ]
  }
 ],
 "metadata": {
  "accelerator": "GPU",
  "colab": {
   "collapsed_sections": [],
   "name": "cifar10_pretrained_cnn.ipynb",
   "provenance": [],
   "version": "0.3.2"
  },
  "kernelspec": {
   "display_name": "Python 3",
   "language": "python",
   "name": "python3"
  },
  "language_info": {
   "codemirror_mode": {
    "name": "ipython",
    "version": 3
   },
   "file_extension": ".py",
   "mimetype": "text/x-python",
   "name": "python",
   "nbconvert_exporter": "python",
   "pygments_lexer": "ipython3",
   "version": "3.6.3"
  }
 },
 "nbformat": 4,
 "nbformat_minor": 1
}
